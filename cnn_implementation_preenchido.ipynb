{
  "nbformat": 4,
  "nbformat_minor": 0,
  "metadata": {
    "accelerator": "GPU",
    "anaconda-cloud": {},
    "colab": {
      "name": "cnn-implementation-preenchido.ipynb",
      "provenance": [],
      "collapsed_sections": [
        "HrF_r7NgYzJ6"
      ],
      "include_colab_link": true
    },
    "kernelspec": {
      "name": "python3",
      "display_name": "Python 3"
    },
    "language_info": {
      "name": "python"
    }
  },
  "cells": [
    {
      "cell_type": "markdown",
      "metadata": {
        "id": "view-in-github",
        "colab_type": "text"
      },
      "source": [
        "<a href=\"https://colab.research.google.com/github/WittmannF/udemy-deep-learning-cnns/blob/main/cnn_implementation_preenchido.ipynb\" target=\"_parent\"><img src=\"https://colab.research.google.com/assets/colab-badge.svg\" alt=\"Open In Colab\"/></a>"
      ]
    },
    {
      "cell_type": "markdown",
      "metadata": {
        "id": "v6OCC73yRnNv"
      },
      "source": [
        "## Convolutional Neural Networks - Implementation"
      ]
    },
    {
      "cell_type": "markdown",
      "metadata": {
        "id": "wqeZBG1GYsFC"
      },
      "source": [
        "Your goal in this project is to classify handwritten digits using Convolutional Neural Networks. Here are a few examples of images from the input data:\n",
        "\n",
        "![](https://upload.wikimedia.org/wikipedia/commons/2/27/MnistExamples.png)\n",
        "\n",
        "As output labels, we have a set of integer values ranging from 0 to 9. We are going to follow those steps in this notebook:\n",
        "\n",
        "1. **Prepare the input data**\n",
        "2. **Creating a simple fully connected model**\n",
        "3. **Extending to CNNs**\n",
        "4. **Visualizing Predictions**\n",
        "\n",
        "As a summary, three new classes/modules are going to be used:\n",
        "- [`tf.keras.layers.Flatten`](https://keras.io/layers/core/)\n",
        "    - Flattens the input. Does not affect the batch size.\n",
        "- [`tf.keras.layers.Conv2D`](https://keras.io/layers/convolutional/)\n",
        "    - 2D convolution layer\n",
        "- [`tf.keras.layers.MaxPooling2D`](https://keras.io/layers/pooling/)\n",
        "    - Max pooling operation for spatial data.\n",
        "\n"
      ]
    },
    {
      "cell_type": "markdown",
      "metadata": {
        "id": "8K3KJIeOYpSw"
      },
      "source": [
        "\n",
        "### 1. Preparing the input data"
      ]
    },
    {
      "cell_type": "code",
      "metadata": {
        "id": "kYjhojGzlSW-"
      },
      "source": [
        "from tensorflow.keras.datasets import mnist"
      ],
      "execution_count": null,
      "outputs": []
    },
    {
      "cell_type": "code",
      "metadata": {
        "colab": {
          "base_uri": "https://localhost:8080/"
        },
        "id": "K6OhpQAVkDI4",
        "outputId": "962f9cf3-db13-4b0f-e40b-40f64ea25adc"
      },
      "source": [
        "(X_train, y_train), (X_test, y_test) = mnist.load_data()"
      ],
      "execution_count": null,
      "outputs": [
        {
          "output_type": "stream",
          "text": [
            "Downloading data from https://storage.googleapis.com/tensorflow/tf-keras-datasets/mnist.npz\n",
            "11493376/11490434 [==============================] - 0s 0us/step\n"
          ],
          "name": "stdout"
        }
      ]
    },
    {
      "cell_type": "code",
      "metadata": {
        "colab": {
          "base_uri": "https://localhost:8080/"
        },
        "id": "0HQ0wIWcny8m",
        "outputId": "6afdd5e5-4581-469f-edd1-202766ccf752"
      },
      "source": [
        "X_train.shape"
      ],
      "execution_count": null,
      "outputs": [
        {
          "output_type": "execute_result",
          "data": {
            "text/plain": [
              "(60000, 28, 28)"
            ]
          },
          "metadata": {
            "tags": []
          },
          "execution_count": 3
        }
      ]
    },
    {
      "cell_type": "code",
      "metadata": {
        "colab": {
          "base_uri": "https://localhost:8080/"
        },
        "id": "bzeki1_xny5_",
        "outputId": "3ef7dea5-ebff-49eb-b13e-a2c7578e54aa"
      },
      "source": [
        "X_test.shape"
      ],
      "execution_count": null,
      "outputs": [
        {
          "output_type": "execute_result",
          "data": {
            "text/plain": [
              "(10000, 28, 28)"
            ]
          },
          "metadata": {
            "tags": []
          },
          "execution_count": 4
        }
      ]
    },
    {
      "cell_type": "code",
      "metadata": {
        "colab": {
          "base_uri": "https://localhost:8080/"
        },
        "id": "H1WR4PKKn6zU",
        "outputId": "dfa38d17-2879-442d-f40a-35257e47082f"
      },
      "source": [
        "y_train"
      ],
      "execution_count": null,
      "outputs": [
        {
          "output_type": "execute_result",
          "data": {
            "text/plain": [
              "array([5, 0, 4, ..., 5, 6, 8], dtype=uint8)"
            ]
          },
          "metadata": {
            "tags": []
          },
          "execution_count": 5
        }
      ]
    },
    {
      "cell_type": "code",
      "metadata": {
        "colab": {
          "base_uri": "https://localhost:8080/"
        },
        "id": "QiLjbWqGoZIP",
        "outputId": "e705117f-6076-40fb-9439-4314fe959785"
      },
      "source": [
        "y_train[0]"
      ],
      "execution_count": null,
      "outputs": [
        {
          "output_type": "execute_result",
          "data": {
            "text/plain": [
              "5"
            ]
          },
          "metadata": {
            "tags": []
          },
          "execution_count": 6
        }
      ]
    },
    {
      "cell_type": "code",
      "metadata": {
        "colab": {
          "base_uri": "https://localhost:8080/",
          "height": 281
        },
        "id": "9PYUfvDtn_vM",
        "outputId": "4eec69da-4b8b-48f5-b6e0-c869105ee9ee"
      },
      "source": [
        "import matplotlib.pyplot as plt\n",
        "\n",
        "IDX=0\n",
        "plt.imshow(X_train[IDX], cmap='gray')\n",
        "plt.title(\"Label\" + str(y_train[IDX]))\n",
        "plt.show()"
      ],
      "execution_count": null,
      "outputs": [
        {
          "output_type": "display_data",
          "data": {
            "image/png": "[encoded data removed]",
            "text/plain": [
              "<Figure size 432x288 with 1 Axes>"
            ]
          },
          "metadata": {
            "tags": [],
            "needs_background": "light"
          }
        }
      ]
    },
    {
      "cell_type": "code",
      "metadata": {
        "id": "0vX_Lv0cn6wt"
      },
      "source": [
        ""
      ],
      "execution_count": null,
      "outputs": []
    },
    {
      "cell_type": "markdown",
      "metadata": {
        "id": "9ENmPMuKVolZ"
      },
      "source": [
        "Now, let's normalize the data using standardization:"
      ]
    },
    {
      "cell_type": "code",
      "metadata": {
        "colab": {
          "base_uri": "https://localhost:8080/"
        },
        "id": "JBwSbBjvX3A-",
        "outputId": "e7646caa-6d9a-48f0-c2e4-75e033f5a230"
      },
      "source": [
        "x_mean = X_train.mean()\n",
        "x_mean"
      ],
      "execution_count": null,
      "outputs": [
        {
          "output_type": "execute_result",
          "data": {
            "text/plain": [
              "33.318421449829934"
            ]
          },
          "metadata": {
            "tags": []
          },
          "execution_count": 8
        }
      ]
    },
    {
      "cell_type": "code",
      "metadata": {
        "colab": {
          "base_uri": "https://localhost:8080/"
        },
        "id": "9RFLfao2rLML",
        "outputId": "568fd8cf-cfb8-415e-e677-acbc7426f394"
      },
      "source": [
        "x_std = X_train.std()\n",
        "x_std"
      ],
      "execution_count": null,
      "outputs": [
        {
          "output_type": "execute_result",
          "data": {
            "text/plain": [
              "78.56748998339798"
            ]
          },
          "metadata": {
            "tags": []
          },
          "execution_count": 9
        }
      ]
    },
    {
      "cell_type": "code",
      "metadata": {
        "id": "-V7jYupVrXw2"
      },
      "source": [
        "X_train_norm = (X_train-x_mean)/x_std"
      ],
      "execution_count": null,
      "outputs": []
    },
    {
      "cell_type": "code",
      "metadata": {
        "colab": {
          "base_uri": "https://localhost:8080/"
        },
        "id": "P3RAyXbYrXuq",
        "outputId": "fba4c2bc-fd58-4f53-fd0a-8ca1f044b876"
      },
      "source": [
        "X_train_norm.mean()"
      ],
      "execution_count": null,
      "outputs": [
        {
          "output_type": "execute_result",
          "data": {
            "text/plain": [
              "-3.064638490070051e-17"
            ]
          },
          "metadata": {
            "tags": []
          },
          "execution_count": 11
        }
      ]
    },
    {
      "cell_type": "code",
      "metadata": {
        "colab": {
          "base_uri": "https://localhost:8080/"
        },
        "id": "rxEu3IMZrLJ6",
        "outputId": "3bbbfad6-6db7-4a4f-ce54-8d01e77b984b"
      },
      "source": [
        "X_train_norm.std()"
      ],
      "execution_count": null,
      "outputs": [
        {
          "output_type": "execute_result",
          "data": {
            "text/plain": [
              "0.9999999999999998"
            ]
          },
          "metadata": {
            "tags": []
          },
          "execution_count": 12
        }
      ]
    },
    {
      "cell_type": "code",
      "metadata": {
        "colab": {
          "base_uri": "https://localhost:8080/"
        },
        "id": "h_uAmFMisRA-",
        "outputId": "fa658984-8870-45fd-936b-6f4d6d624900"
      },
      "source": [
        "X_test.std()"
      ],
      "execution_count": null,
      "outputs": [
        {
          "output_type": "execute_result",
          "data": {
            "text/plain": [
              "79.17246322228644"
            ]
          },
          "metadata": {
            "tags": []
          },
          "execution_count": 13
        }
      ]
    },
    {
      "cell_type": "code",
      "metadata": {
        "id": "5OMokvB_rJFU"
      },
      "source": [
        "X_test_norm = (X_test-x_mean)/x_std"
      ],
      "execution_count": null,
      "outputs": []
    },
    {
      "cell_type": "code",
      "metadata": {
        "colab": {
          "base_uri": "https://localhost:8080/"
        },
        "id": "Q58yJC-RX3w5",
        "outputId": "a9a9e03a-4819-40c0-b61f-99f84c23f567"
      },
      "source": [
        "X_test_norm.mean()"
      ],
      "execution_count": null,
      "outputs": [
        {
          "output_type": "execute_result",
          "data": {
            "text/plain": [
              "0.0060177948928480576"
            ]
          },
          "metadata": {
            "tags": []
          },
          "execution_count": 15
        }
      ]
    },
    {
      "cell_type": "code",
      "metadata": {
        "colab": {
          "base_uri": "https://localhost:8080/"
        },
        "id": "o7cxzyV7sLZb",
        "outputId": "f630d734-1d93-48f4-e031-3f93f6b6a968"
      },
      "source": [
        "X_test_norm.std()"
      ],
      "execution_count": null,
      "outputs": [
        {
          "output_type": "execute_result",
          "data": {
            "text/plain": [
              "1.0077000453879372"
            ]
          },
          "metadata": {
            "tags": []
          },
          "execution_count": 16
        }
      ]
    },
    {
      "cell_type": "code",
      "metadata": {
        "id": "amVo9wDtsYUh"
      },
      "source": [
        "#X_test_norm[0]"
      ],
      "execution_count": null,
      "outputs": []
    },
    {
      "cell_type": "code",
      "metadata": {
        "id": "3ly2lPpAsLXY"
      },
      "source": [
        ""
      ],
      "execution_count": null,
      "outputs": []
    },
    {
      "cell_type": "markdown",
      "metadata": {
        "id": "-EuPGiCJ-lmB"
      },
      "source": [
        "Normalisation is required so that all the inputs are at a comparable range.\n",
        "Say there are two inputs to your ann, x1 and x2. x1 varies from to 0 to 0.5 and x2 varies from 0 to 1000. A change of x1 of 0.5  is 100 percent change where as a change of x2 by 0.5 is only a change of 0.05%. Hence normalization helps. "
      ]
    },
    {
      "cell_type": "markdown",
      "metadata": {
        "id": "P2z_A6xiRvVg"
      },
      "source": [
        "### 2. Training using only Fully Connected layers first"
      ]
    },
    {
      "cell_type": "code",
      "metadata": {
        "id": "yZqOQeE2X4aO"
      },
      "source": [
        "from tensorflow.keras.models import Sequential\n",
        "from tensorflow.keras.layers import Dense, Flatten"
      ],
      "execution_count": null,
      "outputs": []
    },
    {
      "cell_type": "code",
      "metadata": {
        "id": "PZA0mGkv7Zx4"
      },
      "source": [
        "#del model"
      ],
      "execution_count": null,
      "outputs": []
    },
    {
      "cell_type": "code",
      "metadata": {
        "id": "PMdHKS6DX4Xt"
      },
      "source": [
        "model = Sequential([\n",
        "                    Flatten(input_shape=(28, 28)),\n",
        "                    Dense(400, activation='relu'),\n",
        "                    Dense(10, activation='softmax')\n",
        "])"
      ],
      "execution_count": null,
      "outputs": []
    },
    {
      "cell_type": "code",
      "metadata": {
        "colab": {
          "base_uri": "https://localhost:8080/"
        },
        "id": "uwBAn4uz2g8b",
        "outputId": "4ecd7304-26b4-4b05-d420-0723e181131e"
      },
      "source": [
        "model.summary()"
      ],
      "execution_count": null,
      "outputs": [
        {
          "output_type": "stream",
          "text": [
            "Model: \"sequential_7\"\n",
            "_________________________________________________________________\n",
            "Layer (type)                 Output Shape              Param #   \n",
            "=================================================================\n",
            "flatten_7 (Flatten)          (None, 784)               0         \n",
            "_________________________________________________________________\n",
            "dense_9 (Dense)              (None, 400)               314000    \n",
            "_________________________________________________________________\n",
            "dense_10 (Dense)             (None, 10)                4010      \n",
            "=================================================================\n",
            "Total params: 318,010\n",
            "Trainable params: 318,010\n",
            "Non-trainable params: 0\n",
            "_________________________________________________________________\n"
          ],
          "name": "stdout"
        }
      ]
    },
    {
      "cell_type": "code",
      "metadata": {
        "id": "p1AQNudN28dr"
      },
      "source": [
        "model.compile(optimizer='adam', \n",
        "              loss='sparse_categorical_crossentropy',\n",
        "              metrics=['accuracy']\n",
        "              )"
      ],
      "execution_count": null,
      "outputs": []
    },
    {
      "cell_type": "code",
      "metadata": {
        "colab": {
          "base_uri": "https://localhost:8080/"
        },
        "id": "eiiswSai2g37",
        "outputId": "f9e6057c-9f72-42ef-cb49-1b99c016dc17"
      },
      "source": [
        "hist = model.fit(X_train_norm, \n",
        "          y_train, \n",
        "          validation_data=(X_test_norm, y_test), \n",
        "          epochs=10)"
      ],
      "execution_count": null,
      "outputs": [
        {
          "output_type": "stream",
          "text": [
            "Epoch 1/10\n",
            "1875/1875 [==============================] - 4s 2ms/step - loss: 0.1902 - accuracy: 0.9411 - val_loss: 0.1121 - val_accuracy: 0.9666\n",
            "Epoch 2/10\n",
            "1875/1875 [==============================] - 4s 2ms/step - loss: 0.0862 - accuracy: 0.9734 - val_loss: 0.0893 - val_accuracy: 0.9725\n",
            "Epoch 3/10\n",
            "1875/1875 [==============================] - 4s 2ms/step - loss: 0.0625 - accuracy: 0.9800 - val_loss: 0.0741 - val_accuracy: 0.9780\n",
            "Epoch 4/10\n",
            "1875/1875 [==============================] - 4s 2ms/step - loss: 0.0477 - accuracy: 0.9842 - val_loss: 0.0936 - val_accuracy: 0.9766\n",
            "Epoch 5/10\n",
            "1875/1875 [==============================] - 4s 2ms/step - loss: 0.0376 - accuracy: 0.9878 - val_loss: 0.0748 - val_accuracy: 0.9788\n",
            "Epoch 6/10\n",
            "1875/1875 [==============================] - 4s 2ms/step - loss: 0.0332 - accuracy: 0.9890 - val_loss: 0.0711 - val_accuracy: 0.9823\n",
            "Epoch 7/10\n",
            "1875/1875 [==============================] - 4s 2ms/step - loss: 0.0281 - accuracy: 0.9910 - val_loss: 0.1010 - val_accuracy: 0.9762\n",
            "Epoch 8/10\n",
            "1875/1875 [==============================] - 4s 2ms/step - loss: 0.0271 - accuracy: 0.9911 - val_loss: 0.0996 - val_accuracy: 0.9768\n",
            "Epoch 9/10\n",
            "1875/1875 [==============================] - 4s 2ms/step - loss: 0.0236 - accuracy: 0.9926 - val_loss: 0.0948 - val_accuracy: 0.9808\n",
            "Epoch 10/10\n",
            "1875/1875 [==============================] - 4s 2ms/step - loss: 0.0225 - accuracy: 0.9930 - val_loss: 0.1177 - val_accuracy: 0.9763\n"
          ],
          "name": "stdout"
        }
      ]
    },
    {
      "cell_type": "code",
      "metadata": {
        "colab": {
          "base_uri": "https://localhost:8080/",
          "height": 282
        },
        "id": "wXj9S0_i5sUf",
        "outputId": "85c746a4-4849-464a-dfbf-7731e3c4f385"
      },
      "source": [
        "import pandas as pd\n",
        "df=pd.DataFrame(hist.history)\n",
        "df[['accuracy', 'val_accuracy']].plot()"
      ],
      "execution_count": null,
      "outputs": [
        {
          "output_type": "execute_result",
          "data": {
            "text/plain": [
              "<matplotlib.axes._subplots.AxesSubplot at 0x7f2846482e90>"
            ]
          },
          "metadata": {
            "tags": []
          },
          "execution_count": 94
        },
        {
          "output_type": "display_data",
          "data": {
            "image/png": "[encoded data removed]",
            "text/plain": [
              "<Figure size 432x288 with 1 Axes>"
            ]
          },
          "metadata": {
            "tags": [],
            "needs_background": "light"
          }
        }
      ]
    },
    {
      "cell_type": "code",
      "metadata": {
        "colab": {
          "base_uri": "https://localhost:8080/",
          "height": 282
        },
        "id": "4sLfgEf-6K-d",
        "outputId": "0b894514-0d68-4e77-8c82-6ff7e1da6a93"
      },
      "source": [
        "df[['loss', 'val_loss']].plot()"
      ],
      "execution_count": null,
      "outputs": [
        {
          "output_type": "execute_result",
          "data": {
            "text/plain": [
              "<matplotlib.axes._subplots.AxesSubplot at 0x7f2846457110>"
            ]
          },
          "metadata": {
            "tags": []
          },
          "execution_count": 95
        },
        {
          "output_type": "display_data",
          "data": {
            "image/png": "[encoded data removed]",
            "text/plain": [
              "<Figure size 432x288 with 1 Axes>"
            ]
          },
          "metadata": {
            "tags": [],
            "needs_background": "light"
          }
        }
      ]
    },
    {
      "cell_type": "code",
      "metadata": {
        "id": "JD8FepZS5sSF"
      },
      "source": [
        ""
      ],
      "execution_count": null,
      "outputs": []
    },
    {
      "cell_type": "code",
      "metadata": {
        "id": "XephhlKN2g1H"
      },
      "source": [
        ""
      ],
      "execution_count": null,
      "outputs": []
    },
    {
      "cell_type": "markdown",
      "metadata": {
        "id": "jgeCrlak5AMG"
      },
      "source": [
        "### 3. Extending to CNNs"
      ]
    },
    {
      "cell_type": "markdown",
      "metadata": {
        "id": "WKBhdpFaYw8s"
      },
      "source": [
        "\n",
        "Now, let's replicate the same architecture from the visualization provided on the previous video:\n",
        "![Screen Shot 2019-05-14 at 12 58 15](https://user-images.githubusercontent.com/5733246/57713463-e8627400-7648-11e9-8c64-3745519dbb20.png)\n",
        "\n",
        "The analog architecture that is going to be used is:\n",
        "- Conv. Layer with 6 filters\n",
        "- Maxpooling\n",
        "- Conv. Layer with 16 filters\n",
        "- Maxpooling\n",
        "- Fully connected layer with 120 units\n",
        "- Fully connected layer with 100 units\n",
        "- Output layer with 10 units\n"
      ]
    },
    {
      "cell_type": "markdown",
      "metadata": {
        "id": "HrF_r7NgYzJ6"
      },
      "source": [
        "#### 3.1 CNN - First Intuitions"
      ]
    },
    {
      "cell_type": "code",
      "metadata": {
        "id": "qkbHsiImpcGH"
      },
      "source": [
        "from tensorflow.keras.layers import Conv2D"
      ],
      "execution_count": null,
      "outputs": []
    },
    {
      "cell_type": "code",
      "metadata": {
        "colab": {
          "base_uri": "https://localhost:8080/"
        },
        "id": "3nm4MecjrtCn",
        "outputId": "09dbd592-55ab-4e11-c044-47823ddae334"
      },
      "source": [
        "X_train[0].shape"
      ],
      "execution_count": null,
      "outputs": [
        {
          "output_type": "execute_result",
          "data": {
            "text/plain": [
              "(28, 28)"
            ]
          },
          "metadata": {
            "tags": []
          },
          "execution_count": 32
        }
      ]
    },
    {
      "cell_type": "code",
      "metadata": {
        "id": "tDgY5gpTpcDf"
      },
      "source": [
        "conv = Conv2D(1, kernel_size=(3, 3))"
      ],
      "execution_count": null,
      "outputs": []
    },
    {
      "cell_type": "code",
      "metadata": {
        "id": "-s77GczvsOD4"
      },
      "source": [
        "x=X_train_norm[0].reshape(1, 28, 28, 1)"
      ],
      "execution_count": null,
      "outputs": []
    },
    {
      "cell_type": "code",
      "metadata": {
        "colab": {
          "base_uri": "https://localhost:8080/",
          "height": 282
        },
        "id": "AFtw6SwqtRri",
        "outputId": "4c4e9980-ff65-4649-db10-8074ec222e60"
      },
      "source": [
        "plt.imshow(X_train_norm[0], cmap='gray')"
      ],
      "execution_count": null,
      "outputs": [
        {
          "output_type": "execute_result",
          "data": {
            "text/plain": [
              "<matplotlib.image.AxesImage at 0x7f28a78c4410>"
            ]
          },
          "metadata": {
            "tags": []
          },
          "execution_count": 54
        },
        {
          "output_type": "display_data",
          "data": {
            "image/png": "[encoded data removed]",
            "text/plain": [
              "<Figure size 432x288 with 1 Axes>"
            ]
          },
          "metadata": {
            "tags": [],
            "needs_background": "light"
          }
        }
      ]
    },
    {
      "cell_type": "code",
      "metadata": {
        "colab": {
          "base_uri": "https://localhost:8080/"
        },
        "id": "qHmAiSPxtewo",
        "outputId": "98a0b823-d66c-4282-e28b-52e2ab4de8ff"
      },
      "source": [
        "conv.weights"
      ],
      "execution_count": null,
      "outputs": [
        {
          "output_type": "execute_result",
          "data": {
            "text/plain": [
              "[<tf.Variable 'conv2d_2/kernel:0' shape=(3, 3, 1, 1) dtype=float32, numpy=\n",
              " array([[[[-0.34802157]],\n",
              " \n",
              "         [[-0.45563442]],\n",
              " \n",
              "         [[ 0.44138622]]],\n",
              " \n",
              " \n",
              "        [[[-0.2961277 ]],\n",
              " \n",
              "         [[ 0.33105046]],\n",
              " \n",
              "         [[-0.43721807]]],\n",
              " \n",
              " \n",
              "        [[[ 0.27282602]],\n",
              " \n",
              "         [[ 0.14530623]],\n",
              " \n",
              "         [[ 0.25580597]]]], dtype=float32)>,\n",
              " <tf.Variable 'conv2d_2/bias:0' shape=(1,) dtype=float32, numpy=array([0.], dtype=float32)>]"
            ]
          },
          "metadata": {
            "tags": []
          },
          "execution_count": 55
        }
      ]
    },
    {
      "cell_type": "code",
      "metadata": {
        "id": "1JctonjntFI4"
      },
      "source": [
        "new_x = conv(x)"
      ],
      "execution_count": null,
      "outputs": []
    },
    {
      "cell_type": "code",
      "metadata": {
        "id": "C23ENSFXtqyI"
      },
      "source": [
        "new_x=new_x.numpy()"
      ],
      "execution_count": null,
      "outputs": []
    },
    {
      "cell_type": "code",
      "metadata": {
        "id": "r8v8yKLVtkDL"
      },
      "source": [
        "new_x=new_x.reshape(26, 26)"
      ],
      "execution_count": null,
      "outputs": []
    },
    {
      "cell_type": "code",
      "metadata": {
        "colab": {
          "base_uri": "https://localhost:8080/",
          "height": 282
        },
        "id": "TE9dotrAtaRy",
        "outputId": "e489df46-114f-4785-e4d7-c4ab73372f6d"
      },
      "source": [
        "plt.imshow(new_x, cmap='gray')"
      ],
      "execution_count": null,
      "outputs": [
        {
          "output_type": "execute_result",
          "data": {
            "text/plain": [
              "<matplotlib.image.AxesImage at 0x7f28a78c2250>"
            ]
          },
          "metadata": {
            "tags": []
          },
          "execution_count": 60
        },
        {
          "output_type": "display_data",
          "data": {
            "image/png": "[encoded data removed]",
            "text/plain": [
              "<Figure size 432x288 with 1 Axes>"
            ]
          },
          "metadata": {
            "tags": [],
            "needs_background": "light"
          }
        }
      ]
    },
    {
      "cell_type": "markdown",
      "metadata": {
        "id": "HpibtCNRvo_0"
      },
      "source": [
        "#### 3.2 One Conv-Layer"
      ]
    },
    {
      "cell_type": "code",
      "metadata": {
        "id": "sztPq5_jvv3A"
      },
      "source": [
        "from tensorflow.keras.layers import Conv2D\n",
        "\n",
        "model = Sequential([\n",
        "                    Conv2D(6, \n",
        "                           kernel_size=(3,3), \n",
        "                           input_shape=(28, 28, 1)),\n",
        "                    Flatten(),\n",
        "                    Dense(120, activation='relu'),\n",
        "                    Dense(100, activation='relu'),\n",
        "                    Dense(10, activation='softmax')\n",
        "])"
      ],
      "execution_count": null,
      "outputs": []
    },
    {
      "cell_type": "code",
      "metadata": {
        "colab": {
          "base_uri": "https://localhost:8080/"
        },
        "id": "zpjzZfPAtaPR",
        "outputId": "dae89c2b-9e52-458b-9b5f-4bbaecd1784a"
      },
      "source": [
        "model.summary()"
      ],
      "execution_count": null,
      "outputs": [
        {
          "output_type": "stream",
          "text": [
            "Model: \"sequential_4\"\n",
            "_________________________________________________________________\n",
            "Layer (type)                 Output Shape              Param #   \n",
            "=================================================================\n",
            "conv2d_6 (Conv2D)            (None, 26, 26, 6)         60        \n",
            "_________________________________________________________________\n",
            "flatten_4 (Flatten)          (None, 4056)              0         \n",
            "_________________________________________________________________\n",
            "dense_4 (Dense)              (None, 120)               486840    \n",
            "_________________________________________________________________\n",
            "dense_5 (Dense)              (None, 100)               12100     \n",
            "_________________________________________________________________\n",
            "dense_6 (Dense)              (None, 10)                1010      \n",
            "=================================================================\n",
            "Total params: 500,010\n",
            "Trainable params: 500,010\n",
            "Non-trainable params: 0\n",
            "_________________________________________________________________\n"
          ],
          "name": "stdout"
        }
      ]
    },
    {
      "cell_type": "code",
      "metadata": {
        "id": "lMBC5aJcyBR6"
      },
      "source": [
        "model.compile(optimizer='adam', \n",
        "              loss='sparse_categorical_crossentropy',\n",
        "              metrics=['accuracy']\n",
        "              )"
      ],
      "execution_count": null,
      "outputs": []
    },
    {
      "cell_type": "code",
      "metadata": {
        "id": "8nEL3U9GyUfL"
      },
      "source": [
        "X_train_norm=X_train_norm.reshape(60000, 28, 28, 1)\n",
        "X_test_norm=X_test_norm.reshape(-1, 28, 28, 1)"
      ],
      "execution_count": null,
      "outputs": []
    },
    {
      "cell_type": "code",
      "metadata": {
        "colab": {
          "base_uri": "https://localhost:8080/"
        },
        "id": "_wAfo4l4yBPI",
        "outputId": "428e9166-596d-42a1-cccb-d5cc2ce50053"
      },
      "source": [
        "hist = model.fit(X_train_norm, \n",
        "          y_train, \n",
        "          validation_data=(X_test_norm, y_test), \n",
        "          epochs=5)"
      ],
      "execution_count": null,
      "outputs": [
        {
          "output_type": "stream",
          "text": [
            "Epoch 1/5\n",
            "1875/1875 [==============================] - 5s 3ms/step - loss: 0.0322 - accuracy: 0.9894 - val_loss: 0.1052 - val_accuracy: 0.9756\n",
            "Epoch 2/5\n",
            "1875/1875 [==============================] - 5s 3ms/step - loss: 0.0267 - accuracy: 0.9918 - val_loss: 0.1084 - val_accuracy: 0.9731\n",
            "Epoch 3/5\n",
            "1875/1875 [==============================] - 5s 3ms/step - loss: 0.0186 - accuracy: 0.9938 - val_loss: 0.1349 - val_accuracy: 0.9721\n",
            "Epoch 4/5\n",
            "1875/1875 [==============================] - 5s 3ms/step - loss: 0.0211 - accuracy: 0.9931 - val_loss: 0.1366 - val_accuracy: 0.9727\n",
            "Epoch 5/5\n",
            "1875/1875 [==============================] - 5s 3ms/step - loss: 0.0187 - accuracy: 0.9940 - val_loss: 0.1408 - val_accuracy: 0.9725\n"
          ],
          "name": "stdout"
        }
      ]
    },
    {
      "cell_type": "code",
      "metadata": {
        "id": "7aDZg7c8yBM0"
      },
      "source": [
        ""
      ],
      "execution_count": null,
      "outputs": []
    },
    {
      "cell_type": "markdown",
      "metadata": {
        "id": "bmu4vKhzXtPI"
      },
      "source": [
        "#### 3.3 Two Conv-Layer + Maxpooling\n",
        "\n",
        "And now, let's finish the architecture:"
      ]
    },
    {
      "cell_type": "code",
      "metadata": {
        "id": "HgQhyM9gpegx"
      },
      "source": [
        "from tensorflow.keras.layers import MaxPool2D\n",
        "from tensorflow.keras.layers import Conv2D\n",
        "\n",
        "model = Sequential([\n",
        "                    Conv2D(6, kernel_size=(3,3), input_shape=(28, 28, 1), activation='relu'),\n",
        "                    MaxPool2D(),\n",
        "                    Conv2D(16, kernel_size=(3,3), activation='relu'),\n",
        "                    MaxPool2D(),\n",
        "                    Flatten(),\n",
        "                    Dense(120, activation='relu'),\n",
        "                    Dense(100, activation='relu'),\n",
        "                    Dense(10, activation='softmax')\n",
        "])"
      ],
      "execution_count": null,
      "outputs": []
    },
    {
      "cell_type": "code",
      "metadata": {
        "colab": {
          "base_uri": "https://localhost:8080/"
        },
        "id": "0aW0Dz4d5jHU",
        "outputId": "96f5c6d2-40a3-49e0-8355-dfdf592bdf7b"
      },
      "source": [
        "model.summary()"
      ],
      "execution_count": null,
      "outputs": [
        {
          "output_type": "stream",
          "text": [
            "Model: \"sequential_9\"\n",
            "_________________________________________________________________\n",
            "Layer (type)                 Output Shape              Param #   \n",
            "=================================================================\n",
            "conv2d_9 (Conv2D)            (None, 26, 26, 6)         60        \n",
            "_________________________________________________________________\n",
            "max_pooling2d_2 (MaxPooling2 (None, 13, 13, 6)         0         \n",
            "_________________________________________________________________\n",
            "conv2d_10 (Conv2D)           (None, 11, 11, 16)        880       \n",
            "_________________________________________________________________\n",
            "max_pooling2d_3 (MaxPooling2 (None, 5, 5, 16)          0         \n",
            "_________________________________________________________________\n",
            "flatten_9 (Flatten)          (None, 400)               0         \n",
            "_________________________________________________________________\n",
            "dense_14 (Dense)             (None, 120)               48120     \n",
            "_________________________________________________________________\n",
            "dense_15 (Dense)             (None, 100)               12100     \n",
            "_________________________________________________________________\n",
            "dense_16 (Dense)             (None, 10)                1010      \n",
            "=================================================================\n",
            "Total params: 62,170\n",
            "Trainable params: 62,170\n",
            "Non-trainable params: 0\n",
            "_________________________________________________________________\n"
          ],
          "name": "stdout"
        }
      ]
    },
    {
      "cell_type": "code",
      "metadata": {
        "id": "_XE8qNvmpeeC"
      },
      "source": [
        "model.compile(optimizer='adam', \n",
        "              loss='sparse_categorical_crossentropy',\n",
        "              metrics=['accuracy']\n",
        "              )"
      ],
      "execution_count": null,
      "outputs": []
    },
    {
      "cell_type": "code",
      "metadata": {
        "colab": {
          "base_uri": "https://localhost:8080/"
        },
        "id": "1ZQoYubw52zq",
        "outputId": "094d5888-794a-498d-d7c1-17f04312afdd"
      },
      "source": [
        "hist = model.fit(X_train_norm, \n",
        "          y_train, \n",
        "          validation_data=(X_test_norm, y_test), \n",
        "          epochs=5)"
      ],
      "execution_count": null,
      "outputs": [
        {
          "output_type": "stream",
          "text": [
            "Epoch 1/5\n",
            "1875/1875 [==============================] - 6s 3ms/step - loss: 0.1705 - accuracy: 0.9474 - val_loss: 0.0776 - val_accuracy: 0.9753\n",
            "Epoch 2/5\n",
            "1875/1875 [==============================] - 5s 3ms/step - loss: 0.0615 - accuracy: 0.9809 - val_loss: 0.0541 - val_accuracy: 0.9814\n",
            "Epoch 3/5\n",
            "1875/1875 [==============================] - 5s 3ms/step - loss: 0.0445 - accuracy: 0.9856 - val_loss: 0.0396 - val_accuracy: 0.9867\n",
            "Epoch 4/5\n",
            "1875/1875 [==============================] - 5s 3ms/step - loss: 0.0353 - accuracy: 0.9894 - val_loss: 0.0378 - val_accuracy: 0.9882\n",
            "Epoch 5/5\n",
            "1875/1875 [==============================] - 5s 3ms/step - loss: 0.0283 - accuracy: 0.9906 - val_loss: 0.0490 - val_accuracy: 0.9852\n"
          ],
          "name": "stdout"
        }
      ]
    },
    {
      "cell_type": "code",
      "metadata": {
        "id": "qf9kaoFE52vi"
      },
      "source": [
        "model.save('best_model.h5')"
      ],
      "execution_count": null,
      "outputs": []
    },
    {
      "cell_type": "markdown",
      "metadata": {
        "id": "XXSBPdESYXDR"
      },
      "source": [
        "### 4. Visualizing predictions"
      ]
    },
    {
      "cell_type": "markdown",
      "metadata": {
        "id": "2xFczDTBY3SL"
      },
      "source": [
        "Finally, let's visualize some predictions:"
      ]
    },
    {
      "cell_type": "code",
      "metadata": {
        "id": "p0FUlhOc8WnY"
      },
      "source": [
        "x=X_test_norm[0].reshape(1, 28, 28, 1)"
      ],
      "execution_count": null,
      "outputs": []
    },
    {
      "cell_type": "code",
      "metadata": {
        "colab": {
          "base_uri": "https://localhost:8080/",
          "height": 282
        },
        "id": "nUNKJb1c9dGy",
        "outputId": "89bc4618-5a29-4a6a-8865-1bd4edd89b42"
      },
      "source": [
        "plt.imshow(x.reshape(28, 28), cmap='gray')"
      ],
      "execution_count": null,
      "outputs": [
        {
          "output_type": "execute_result",
          "data": {
            "text/plain": [
              "<matplotlib.image.AxesImage at 0x7f28a782a390>"
            ]
          },
          "metadata": {
            "tags": []
          },
          "execution_count": 120
        },
        {
          "output_type": "display_data",
          "data": {
            "image/png": "[encoded data removed]",
            "text/plain": [
              "<Figure size 432x288 with 1 Axes>"
            ]
          },
          "metadata": {
            "tags": [],
            "needs_background": "light"
          }
        }
      ]
    },
    {
      "cell_type": "code",
      "metadata": {
        "id": "4c56X0SApfxM"
      },
      "source": [
        "pred = model.predict(x)"
      ],
      "execution_count": null,
      "outputs": []
    },
    {
      "cell_type": "code",
      "metadata": {
        "colab": {
          "base_uri": "https://localhost:8080/"
        },
        "id": "3TDFRJg_9JNN",
        "outputId": "6bb016d2-ad95-4896-bdc9-b6804b155db4"
      },
      "source": [
        "pred"
      ],
      "execution_count": null,
      "outputs": [
        {
          "output_type": "execute_result",
          "data": {
            "text/plain": [
              "array([[4.5803691e-12, 8.4376303e-08, 1.7364101e-09, 5.7993663e-09,\n",
              "        1.5799786e-10, 7.5107828e-12, 3.2882929e-15, 9.9999988e-01,\n",
              "        7.2302345e-11, 7.1998796e-10]], dtype=float32)"
            ]
          },
          "metadata": {
            "tags": []
          },
          "execution_count": 112
        }
      ]
    },
    {
      "cell_type": "code",
      "metadata": {
        "colab": {
          "base_uri": "https://localhost:8080/"
        },
        "id": "81Cmbzjc8wlo",
        "outputId": "cdec704b-123a-4383-bb89-41dab245ab30"
      },
      "source": [
        "idx = pred.argmax()\n",
        "idx"
      ],
      "execution_count": null,
      "outputs": [
        {
          "output_type": "execute_result",
          "data": {
            "text/plain": [
              "7"
            ]
          },
          "metadata": {
            "tags": []
          },
          "execution_count": 113
        }
      ]
    },
    {
      "cell_type": "code",
      "metadata": {
        "colab": {
          "base_uri": "https://localhost:8080/"
        },
        "id": "AWEopuDA9Nq-",
        "outputId": "46822d74-6b65-4c60-bf84-f332ff935706"
      },
      "source": [
        "pred[0][idx]"
      ],
      "execution_count": null,
      "outputs": [
        {
          "output_type": "execute_result",
          "data": {
            "text/plain": [
              "0.9999999"
            ]
          },
          "metadata": {
            "tags": []
          },
          "execution_count": 117
        }
      ]
    },
    {
      "cell_type": "code",
      "metadata": {
        "colab": {
          "base_uri": "https://localhost:8080/"
        },
        "id": "r8awhfK0pfu7",
        "outputId": "eb87aaad-b6e4-4733-bd80-659b99b009d4"
      },
      "source": [
        "y_test[0]"
      ],
      "execution_count": null,
      "outputs": [
        {
          "output_type": "execute_result",
          "data": {
            "text/plain": [
              "7"
            ]
          },
          "metadata": {
            "tags": []
          },
          "execution_count": 107
        }
      ]
    },
    {
      "cell_type": "code",
      "metadata": {
        "colab": {
          "base_uri": "https://localhost:8080/",
          "height": 1000
        },
        "id": "OBvUO-9L9XvA",
        "outputId": "2a642a06-45cb-4276-90b5-7b283b15ed56"
      },
      "source": [
        "for idx in range(5):\n",
        "    x=X_test_norm[idx].reshape(1, 28, 28, 1)\n",
        "    plt.imshow(x.reshape(28, 28), cmap='gray')\n",
        "    pred = model.predict(x)\n",
        "    pred_class = pred.argmax()\n",
        "    plt.title(f'True {y_test[idx]}, Pred: {pred_class}, Proba: {pred[0][pred_class]*100:.2f}%')\n",
        "    plt.show()\n"
      ],
      "execution_count": null,
      "outputs": [
        {
          "output_type": "display_data",
          "data": {
            "image/png": "[encoded data removed]",
            "text/plain": [
              "<Figure size 432x288 with 1 Axes>"
            ]
          },
          "metadata": {
            "tags": [],
            "needs_background": "light"
          }
        },
        {
          "output_type": "display_data",
          "data": {
            "image/png": "[encoded data removed]",
            "text/plain": [
              "<Figure size 432x288 with 1 Axes>"
            ]
          },
          "metadata": {
            "tags": [],
            "needs_background": "light"
          }
        },
        {
          "output_type": "display_data",
          "data": {
            "image/png": "[encoded data removed]",
            "text/plain": [
              "<Figure size 432x288 with 1 Axes>"
            ]
          },
          "metadata": {
            "tags": [],
            "needs_background": "light"
          }
        },
        {
          "output_type": "display_data",
          "data": {
            "image/png": "[encoded data removed]",
            "text/plain": [
              "<Figure size 432x288 with 1 Axes>"
            ]
          },
          "metadata": {
            "tags": [],
            "needs_background": "light"
          }
        },
        {
          "output_type": "display_data",
          "data": {
            "image/png": "[encoded data removed]",
            "text/plain": [
              "<Figure size 432x288 with 1 Axes>"
            ]
          },
          "metadata": {
            "tags": [],
            "needs_background": "light"
          }
        }
      ]
    },
    {
      "cell_type": "markdown",
      "metadata": {
        "id": "-qolI1L4ACzG"
      },
      "source": [
        "### 5. (Bonus) Visualizing Conv Filters"
      ]
    },
    {
      "cell_type": "code",
      "metadata": {
        "id": "AooAXtV4AHRz"
      },
      "source": [
        "conv_layer = model.layers[0]"
      ],
      "execution_count": null,
      "outputs": []
    },
    {
      "cell_type": "code",
      "metadata": {
        "id": "WWyfvQZHBPbv"
      },
      "source": [
        "#conv_layer.weights"
      ],
      "execution_count": null,
      "outputs": []
    },
    {
      "cell_type": "code",
      "metadata": {
        "id": "v1fUbCIABef1"
      },
      "source": [
        "x=X_train_norm[0].reshape(1, 28, 28, 1)"
      ],
      "execution_count": null,
      "outputs": []
    },
    {
      "cell_type": "code",
      "metadata": {
        "colab": {
          "base_uri": "https://localhost:8080/",
          "height": 282
        },
        "id": "BLmuzYbtAHPS",
        "outputId": "e3f0c7a1-8690-4b2f-ebf8-accf4c4ff6d0"
      },
      "source": [
        "plt.imshow(x.reshape(28,28), cmap='gray')"
      ],
      "execution_count": null,
      "outputs": [
        {
          "output_type": "execute_result",
          "data": {
            "text/plain": [
              "<matplotlib.image.AxesImage at 0x7f28c6e65510>"
            ]
          },
          "metadata": {
            "tags": []
          },
          "execution_count": 161
        },
        {
          "output_type": "display_data",
          "data": {
            "image/png": "[encoded data removed]",
            "text/plain": [
              "<Figure size 432x288 with 1 Axes>"
            ]
          },
          "metadata": {
            "tags": [],
            "needs_background": "light"
          }
        }
      ]
    },
    {
      "cell_type": "code",
      "metadata": {
        "id": "2tnMoYOuEKKH"
      },
      "source": [
        "conv_layer?"
      ],
      "execution_count": null,
      "outputs": []
    },
    {
      "cell_type": "code",
      "metadata": {
        "id": "TCVraxpb8n2d"
      },
      "source": [
        "output_imgs = conv_layer(x)"
      ],
      "execution_count": null,
      "outputs": []
    },
    {
      "cell_type": "code",
      "metadata": {
        "colab": {
          "base_uri": "https://localhost:8080/"
        },
        "id": "5qRR_vmNBtmG",
        "outputId": "b65afb21-6f51-4040-d1a0-ac47de2fef45"
      },
      "source": [
        "output_imgs.shape"
      ],
      "execution_count": null,
      "outputs": [
        {
          "output_type": "execute_result",
          "data": {
            "text/plain": [
              "TensorShape([1, 26, 26, 6])"
            ]
          },
          "metadata": {
            "tags": []
          },
          "execution_count": 163
        }
      ]
    },
    {
      "cell_type": "code",
      "metadata": {
        "id": "8y9ER3Z_ByRW"
      },
      "source": [
        "#output_img"
      ],
      "execution_count": null,
      "outputs": []
    },
    {
      "cell_type": "code",
      "metadata": {
        "colab": {
          "base_uri": "https://localhost:8080/",
          "height": 1000
        },
        "id": "2xILWuB8BsZp",
        "outputId": "b579e886-209e-4e91-ed3d-fdd5563d0609"
      },
      "source": [
        "for idx in range(6):\n",
        "    img=output_img[:, :, :, idx].numpy().reshape(26,26)\n",
        "    plt.imshow(img, cmap='gray')\n",
        "    plt.title('Output Image')\n",
        "    plt.show()"
      ],
      "execution_count": null,
      "outputs": [
        {
          "output_type": "display_data",
          "data": {
            "image/png": "[encoded data removed]",
            "text/plain": [
              "<Figure size 432x288 with 1 Axes>"
            ]
          },
          "metadata": {
            "tags": [],
            "needs_background": "light"
          }
        },
        {
          "output_type": "display_data",
          "data": {
            "image/png": "[encoded data removed]",
            "text/plain": [
              "<Figure size 432x288 with 1 Axes>"
            ]
          },
          "metadata": {
            "tags": [],
            "needs_background": "light"
          }
        },
        {
          "output_type": "display_data",
          "data": {
            "image/png": "[encoded data removed]",
            "text/plain": [
              "<Figure size 432x288 with 1 Axes>"
            ]
          },
          "metadata": {
            "tags": [],
            "needs_background": "light"
          }
        },
        {
          "output_type": "display_data",
          "data": {
            "image/png": "[encoded data removed]",
            "text/plain": [
              "<Figure size 432x288 with 1 Axes>"
            ]
          },
          "metadata": {
            "tags": [],
            "needs_background": "light"
          }
        },
        {
          "output_type": "display_data",
          "data": {
            "image/png": "[encoded data removed]",
            "text/plain": [
              "<Figure size 432x288 with 1 Axes>"
            ]
          },
          "metadata": {
            "tags": [],
            "needs_background": "light"
          }
        },
        {
          "output_type": "display_data",
          "data": {
            "image/png": "[encoded data removed]",
            "text/plain": [
              "<Figure size 432x288 with 1 Axes>"
            ]
          },
          "metadata": {
            "tags": [],
            "needs_background": "light"
          }
        }
      ]
    },
    {
      "cell_type": "code",
      "metadata": {
        "id": "_DgJWcwOBsW7"
      },
      "source": [
        ""
      ],
      "execution_count": null,
      "outputs": []
    },
    {
      "cell_type": "code",
      "metadata": {
        "id": "nh_oiOmLBsUQ"
      },
      "source": [
        ""
      ],
      "execution_count": null,
      "outputs": []
    }
  ]
}