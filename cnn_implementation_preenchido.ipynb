{
  "nbformat": 4,
  "nbformat_minor": 0,
  "metadata": {
    "accelerator": "GPU",
    "anaconda-cloud": {},
    "colab": {
      "name": "cnn-implementation-preenchido.ipynb",
      "provenance": [],
      "collapsed_sections": [
        "HrF_r7NgYzJ6"
      ],
      "include_colab_link": true
    },
    "kernelspec": {
      "name": "python3",
      "display_name": "Python 3"
    },
    "language_info": {
      "name": "python"
    }
  },
  "cells": [
    {
      "cell_type": "markdown",
      "metadata": {
        "id": "view-in-github",
        "colab_type": "text"
      },
      "source": [
        "<a href=\"https://colab.research.google.com/github/WittmannF/udemy-deep-learning-cnns/blob/main/cnn_implementation_preenchido.ipynb\" target=\"_parent\"><img src=\"https://colab.research.google.com/assets/colab-badge.svg\" alt=\"Open In Colab\"/></a>"
      ]
    },
    {
      "cell_type": "markdown",
      "metadata": {
        "id": "v6OCC73yRnNv"
      },
      "source": [
        "## Convolutional Neural Networks - Implementation"
      ]
    },
    {
      "cell_type": "markdown",
      "metadata": {
        "id": "wqeZBG1GYsFC"
      },
      "source": [
        "Your goal in this project is to classify handwritten digits using Convolutional Neural Networks. Here are a few examples of images from the input data:\n",
        "\n",
        "![](https://upload.wikimedia.org/wikipedia/commons/2/27/MnistExamples.png)\n",
        "\n",
        "As output labels, we have a set of integer values ranging from 0 to 9. We are going to follow those steps in this notebook:\n",
        "\n",
        "1. **Prepare the input data**\n",
        "2. **Creating a simple fully connected model**\n",
        "3. **Extending to CNNs**\n",
        "4. **Visualizing Predictions**\n",
        "\n",
        "As a summary, three new classes/modules are going to be used:\n",
        "- [`tf.keras.layers.Flatten`](https://keras.io/layers/core/)\n",
        "    - Flattens the input. Does not affect the batch size.\n",
        "- [`tf.keras.layers.Conv2D`](https://keras.io/layers/convolutional/)\n",
        "    - 2D convolution layer\n",
        "- [`tf.keras.layers.MaxPooling2D`](https://keras.io/layers/pooling/)\n",
        "    - Max pooling operation for spatial data.\n",
        "\n"
      ]
    },
    {
      "cell_type": "markdown",
      "metadata": {
        "id": "8K3KJIeOYpSw"
      },
      "source": [
        "\n",
        "### 1. Preparing the input data"
      ]
    },
    {
      "cell_type": "code",
      "metadata": {
        "id": "kYjhojGzlSW-"
      },
      "source": [
        "from tensorflow.keras.datasets import mnist"
      ],
      "execution_count": 1,
      "outputs": []
    },
    {
      "cell_type": "code",
      "metadata": {
        "colab": {
          "base_uri": "https://localhost:8080/"
        },
        "id": "K6OhpQAVkDI4",
        "outputId": "2714ad06-e78c-41c1-f0e9-b92280b4e80b"
      },
      "source": [
        "(X_train, y_train), (X_test, y_test) = mnist.load_data()"
      ],
      "execution_count": 2,
      "outputs": [
        {
          "output_type": "stream",
          "name": "stdout",
          "text": [
            "Downloading data from https://storage.googleapis.com/tensorflow/tf-keras-datasets/mnist.npz\n",
            "11493376/11490434 [==============================] - 0s 0us/step\n",
            "11501568/11490434 [==============================] - 0s 0us/step\n"
          ]
        }
      ]
    },
    {
      "cell_type": "code",
      "metadata": {
        "colab": {
          "base_uri": "https://localhost:8080/"
        },
        "id": "0HQ0wIWcny8m",
        "outputId": "9de65bdb-af3a-4a80-a583-4997dbd88372"
      },
      "source": [
        "X_train.shape"
      ],
      "execution_count": 3,
      "outputs": [
        {
          "output_type": "execute_result",
          "data": {
            "text/plain": [
              "(60000, 28, 28)"
            ]
          },
          "metadata": {},
          "execution_count": 3
        }
      ]
    },
    {
      "cell_type": "code",
      "metadata": {
        "colab": {
          "base_uri": "https://localhost:8080/"
        },
        "id": "bzeki1_xny5_",
        "outputId": "22d3d02d-81d0-400e-e191-bc822cb04263"
      },
      "source": [
        "X_test.shape"
      ],
      "execution_count": 4,
      "outputs": [
        {
          "output_type": "execute_result",
          "data": {
            "text/plain": [
              "(10000, 28, 28)"
            ]
          },
          "metadata": {},
          "execution_count": 4
        }
      ]
    },
    {
      "cell_type": "code",
      "metadata": {
        "colab": {
          "base_uri": "https://localhost:8080/"
        },
        "id": "H1WR4PKKn6zU",
        "outputId": "9dd5e28c-babf-4455-d946-a4cb06e03f50"
      },
      "source": [
        "y_train"
      ],
      "execution_count": 5,
      "outputs": [
        {
          "output_type": "execute_result",
          "data": {
            "text/plain": [
              "array([5, 0, 4, ..., 5, 6, 8], dtype=uint8)"
            ]
          },
          "metadata": {},
          "execution_count": 5
        }
      ]
    },
    {
      "cell_type": "code",
      "metadata": {
        "colab": {
          "base_uri": "https://localhost:8080/"
        },
        "id": "QiLjbWqGoZIP",
        "outputId": "a6142bec-ceb3-4acf-f59e-8eb15d73e825"
      },
      "source": [
        "y_train[0]"
      ],
      "execution_count": 6,
      "outputs": [
        {
          "output_type": "execute_result",
          "data": {
            "text/plain": [
              "5"
            ]
          },
          "metadata": {},
          "execution_count": 6
        }
      ]
    },
    {
      "cell_type": "code",
      "metadata": {
        "colab": {
          "base_uri": "https://localhost:8080/",
          "height": 281
        },
        "id": "9PYUfvDtn_vM",
        "outputId": "01b51e50-0cf1-4c93-83fc-0b4559e945a6"
      },
      "source": [
        "import matplotlib.pyplot as plt\n",
        "\n",
        "IDX=0\n",
        "plt.imshow(X_train[IDX], cmap='gray')\n",
        "plt.title(\"Label\" + str(y_train[IDX]))\n",
        "plt.show()"
      ],
      "execution_count": 7,
      "outputs": [
        {
          "output_type": "display_data",
          "data": {
            "image/png": "[encoded data removed]",
            "text/plain": [
              "<Figure size 432x288 with 1 Axes>"
            ]
          },
          "metadata": {
            "needs_background": "light"
          }
        }
      ]
    },
    {
      "cell_type": "code",
      "metadata": {
        "id": "0vX_Lv0cn6wt"
      },
      "source": [
        ""
      ],
      "execution_count": 7,
      "outputs": []
    },
    {
      "cell_type": "markdown",
      "metadata": {
        "id": "9ENmPMuKVolZ"
      },
      "source": [
        "Now, let's normalize the data using standardization:"
      ]
    },
    {
      "cell_type": "code",
      "metadata": {
        "colab": {
          "base_uri": "https://localhost:8080/"
        },
        "id": "JBwSbBjvX3A-",
        "outputId": "b8ecac06-742d-43f6-d005-62c655c11a63"
      },
      "source": [
        "x_mean = X_train.mean()\n",
        "x_mean"
      ],
      "execution_count": 8,
      "outputs": [
        {
          "output_type": "execute_result",
          "data": {
            "text/plain": [
              "33.318421449829934"
            ]
          },
          "metadata": {},
          "execution_count": 8
        }
      ]
    },
    {
      "cell_type": "code",
      "metadata": {
        "colab": {
          "base_uri": "https://localhost:8080/"
        },
        "id": "9RFLfao2rLML",
        "outputId": "ff05e9a6-48fc-4ce0-969e-9db9480747eb"
      },
      "source": [
        "x_std = X_train.std()\n",
        "x_std"
      ],
      "execution_count": 9,
      "outputs": [
        {
          "output_type": "execute_result",
          "data": {
            "text/plain": [
              "78.56748998339798"
            ]
          },
          "metadata": {},
          "execution_count": 9
        }
      ]
    },
    {
      "cell_type": "code",
      "metadata": {
        "id": "-V7jYupVrXw2"
      },
      "source": [
        "X_train_norm = (X_train-x_mean)/x_std"
      ],
      "execution_count": 10,
      "outputs": []
    },
    {
      "cell_type": "code",
      "metadata": {
        "colab": {
          "base_uri": "https://localhost:8080/"
        },
        "id": "P3RAyXbYrXuq",
        "outputId": "1512117b-5f65-48fd-f57d-8b491cb281cb"
      },
      "source": [
        "X_train_norm.mean()"
      ],
      "execution_count": 11,
      "outputs": [
        {
          "output_type": "execute_result",
          "data": {
            "text/plain": [
              "-3.064638490070051e-17"
            ]
          },
          "metadata": {},
          "execution_count": 11
        }
      ]
    },
    {
      "cell_type": "code",
      "metadata": {
        "colab": {
          "base_uri": "https://localhost:8080/"
        },
        "id": "rxEu3IMZrLJ6",
        "outputId": "a6ffc40d-a85c-45d2-a0c0-586314938aa9"
      },
      "source": [
        "X_train_norm.std()"
      ],
      "execution_count": 12,
      "outputs": [
        {
          "output_type": "execute_result",
          "data": {
            "text/plain": [
              "0.9999999999999998"
            ]
          },
          "metadata": {},
          "execution_count": 12
        }
      ]
    },
    {
      "cell_type": "code",
      "metadata": {
        "colab": {
          "base_uri": "https://localhost:8080/"
        },
        "id": "h_uAmFMisRA-",
        "outputId": "dd275490-d743-45f1-b123-69d0ad09fe92"
      },
      "source": [
        "X_test.std()"
      ],
      "execution_count": 13,
      "outputs": [
        {
          "output_type": "execute_result",
          "data": {
            "text/plain": [
              "79.17246322228644"
            ]
          },
          "metadata": {},
          "execution_count": 13
        }
      ]
    },
    {
      "cell_type": "code",
      "metadata": {
        "id": "5OMokvB_rJFU"
      },
      "source": [
        "X_test_norm = (X_test-x_mean)/x_std"
      ],
      "execution_count": 14,
      "outputs": []
    },
    {
      "cell_type": "code",
      "metadata": {
        "colab": {
          "base_uri": "https://localhost:8080/"
        },
        "id": "Q58yJC-RX3w5",
        "outputId": "34b397f7-1df5-46f6-a47f-ae81e79df88b"
      },
      "source": [
        "X_test_norm.mean()"
      ],
      "execution_count": 15,
      "outputs": [
        {
          "output_type": "execute_result",
          "data": {
            "text/plain": [
              "0.0060177948928480576"
            ]
          },
          "metadata": {},
          "execution_count": 15
        }
      ]
    },
    {
      "cell_type": "code",
      "metadata": {
        "colab": {
          "base_uri": "https://localhost:8080/"
        },
        "id": "o7cxzyV7sLZb",
        "outputId": "cb5d5e03-f139-412f-84c2-beeeef1017e5"
      },
      "source": [
        "X_test_norm.std()"
      ],
      "execution_count": 16,
      "outputs": [
        {
          "output_type": "execute_result",
          "data": {
            "text/plain": [
              "1.0077000453879372"
            ]
          },
          "metadata": {},
          "execution_count": 16
        }
      ]
    },
    {
      "cell_type": "code",
      "metadata": {
        "id": "amVo9wDtsYUh"
      },
      "source": [
        "#X_test_norm[0]"
      ],
      "execution_count": 17,
      "outputs": []
    },
    {
      "cell_type": "code",
      "metadata": {
        "id": "3ly2lPpAsLXY"
      },
      "source": [
        ""
      ],
      "execution_count": 17,
      "outputs": []
    },
    {
      "cell_type": "markdown",
      "metadata": {
        "id": "-EuPGiCJ-lmB"
      },
      "source": [
        "Normalisation is required so that all the inputs are at a comparable range.\n",
        "Say there are two inputs to your ann, x1 and x2. x1 varies from to 0 to 0.5 and x2 varies from 0 to 1000. A change of x1 of 0.5  is 100 percent change where as a change of x2 by 0.5 is only a change of 0.05%. Hence normalization helps. "
      ]
    },
    {
      "cell_type": "markdown",
      "metadata": {
        "id": "P2z_A6xiRvVg"
      },
      "source": [
        "### 2. Training using only Fully Connected layers first"
      ]
    },
    {
      "cell_type": "code",
      "metadata": {
        "id": "yZqOQeE2X4aO"
      },
      "source": [
        "from tensorflow.keras.models import Sequential\n",
        "from tensorflow.keras.layers import Dense, Flatten"
      ],
      "execution_count": 18,
      "outputs": []
    },
    {
      "cell_type": "code",
      "metadata": {
        "id": "PZA0mGkv7Zx4"
      },
      "source": [
        "#del model"
      ],
      "execution_count": 19,
      "outputs": []
    },
    {
      "cell_type": "code",
      "metadata": {
        "id": "PMdHKS6DX4Xt"
      },
      "source": [
        "model = Sequential([\n",
        "                    Flatten(input_shape=(28, 28)),\n",
        "                    Dense(400, activation='relu'),\n",
        "                    Dense(10, activation='softmax')\n",
        "])"
      ],
      "execution_count": 20,
      "outputs": []
    },
    {
      "cell_type": "code",
      "metadata": {
        "colab": {
          "base_uri": "https://localhost:8080/"
        },
        "id": "uwBAn4uz2g8b",
        "outputId": "7f065cf3-4a86-485c-ab7c-f51016a9bb6a"
      },
      "source": [
        "model.summary()"
      ],
      "execution_count": 21,
      "outputs": [
        {
          "output_type": "stream",
          "name": "stdout",
          "text": [
            "Model: \"sequential\"\n",
            "_________________________________________________________________\n",
            "Layer (type)                 Output Shape              Param #   \n",
            "=================================================================\n",
            "flatten (Flatten)            (None, 784)               0         \n",
            "_________________________________________________________________\n",
            "dense (Dense)                (None, 400)               314000    \n",
            "_________________________________________________________________\n",
            "dense_1 (Dense)              (None, 10)                4010      \n",
            "=================================================================\n",
            "Total params: 318,010\n",
            "Trainable params: 318,010\n",
            "Non-trainable params: 0\n",
            "_________________________________________________________________\n"
          ]
        }
      ]
    },
    {
      "cell_type": "code",
      "metadata": {
        "id": "p1AQNudN28dr"
      },
      "source": [
        "model.compile(optimizer='adam', \n",
        "              loss='sparse_categorical_crossentropy',\n",
        "              metrics=['accuracy']\n",
        "              )"
      ],
      "execution_count": 22,
      "outputs": []
    },
    {
      "cell_type": "code",
      "metadata": {
        "colab": {
          "base_uri": "https://localhost:8080/"
        },
        "id": "eiiswSai2g37",
        "outputId": "736a56ab-1a5c-4ed4-8ed5-4007204fd5bd"
      },
      "source": [
        "hist = model.fit(X_train_norm, \n",
        "          y_train, \n",
        "          validation_data=(X_test_norm, y_test), \n",
        "          epochs=10)"
      ],
      "execution_count": 23,
      "outputs": [
        {
          "output_type": "stream",
          "name": "stdout",
          "text": [
            "Epoch 1/10\n",
            "1875/1875 [==============================] - 5s 2ms/step - loss: 0.1889 - accuracy: 0.9428 - val_loss: 0.1099 - val_accuracy: 0.9650\n",
            "Epoch 2/10\n",
            "1875/1875 [==============================] - 4s 2ms/step - loss: 0.0878 - accuracy: 0.9731 - val_loss: 0.0866 - val_accuracy: 0.9747\n",
            "Epoch 3/10\n",
            "1875/1875 [==============================] - 4s 2ms/step - loss: 0.0620 - accuracy: 0.9809 - val_loss: 0.0933 - val_accuracy: 0.9744\n",
            "Epoch 4/10\n",
            "1875/1875 [==============================] - 4s 2ms/step - loss: 0.0468 - accuracy: 0.9853 - val_loss: 0.0863 - val_accuracy: 0.9753\n",
            "Epoch 5/10\n",
            "1875/1875 [==============================] - 4s 2ms/step - loss: 0.0401 - accuracy: 0.9870 - val_loss: 0.0830 - val_accuracy: 0.9792\n",
            "Epoch 6/10\n",
            "1875/1875 [==============================] - 3s 2ms/step - loss: 0.0328 - accuracy: 0.9892 - val_loss: 0.0867 - val_accuracy: 0.9794\n",
            "Epoch 7/10\n",
            "1875/1875 [==============================] - 3s 2ms/step - loss: 0.0282 - accuracy: 0.9904 - val_loss: 0.0878 - val_accuracy: 0.9801\n",
            "Epoch 8/10\n",
            "1875/1875 [==============================] - 3s 2ms/step - loss: 0.0251 - accuracy: 0.9921 - val_loss: 0.1246 - val_accuracy: 0.9757\n",
            "Epoch 9/10\n",
            "1875/1875 [==============================] - 4s 2ms/step - loss: 0.0231 - accuracy: 0.9926 - val_loss: 0.0926 - val_accuracy: 0.9788\n",
            "Epoch 10/10\n",
            "1875/1875 [==============================] - 4s 2ms/step - loss: 0.0214 - accuracy: 0.9929 - val_loss: 0.1202 - val_accuracy: 0.9786\n"
          ]
        }
      ]
    },
    {
      "cell_type": "code",
      "metadata": {
        "colab": {
          "base_uri": "https://localhost:8080/",
          "height": 282
        },
        "id": "wXj9S0_i5sUf",
        "outputId": "f40cdd4d-416a-4ae8-9088-650920e09680"
      },
      "source": [
        "import pandas as pd\n",
        "df=pd.DataFrame(hist.history)\n",
        "df[['accuracy', 'val_accuracy']].plot()"
      ],
      "execution_count": 24,
      "outputs": [
        {
          "output_type": "execute_result",
          "data": {
            "text/plain": [
              "<matplotlib.axes._subplots.AxesSubplot at 0x7f1c5472cd10>"
            ]
          },
          "metadata": {},
          "execution_count": 24
        },
        {
          "output_type": "display_data",
          "data": {
            "image/png": "[encoded data removed]",
            "text/plain": [
              "<Figure size 432x288 with 1 Axes>"
            ]
          },
          "metadata": {
            "needs_background": "light"
          }
        }
      ]
    },
    {
      "cell_type": "code",
      "metadata": {
        "colab": {
          "base_uri": "https://localhost:8080/",
          "height": 282
        },
        "id": "4sLfgEf-6K-d",
        "outputId": "ca206ec2-b31f-4c98-bd84-ce88ed595c07"
      },
      "source": [
        "df[['loss', 'val_loss']].plot()"
      ],
      "execution_count": 25,
      "outputs": [
        {
          "output_type": "execute_result",
          "data": {
            "text/plain": [
              "<matplotlib.axes._subplots.AxesSubplot at 0x7f1c54650ad0>"
            ]
          },
          "metadata": {},
          "execution_count": 25
        },
        {
          "output_type": "display_data",
          "data": {
            "image/png": "[encoded data removed]",
            "text/plain": [
              "<Figure size 432x288 with 1 Axes>"
            ]
          },
          "metadata": {
            "needs_background": "light"
          }
        }
      ]
    },
    {
      "cell_type": "code",
      "metadata": {
        "id": "JD8FepZS5sSF"
      },
      "source": [
        ""
      ],
      "execution_count": 25,
      "outputs": []
    },
    {
      "cell_type": "code",
      "metadata": {
        "id": "XephhlKN2g1H"
      },
      "source": [
        ""
      ],
      "execution_count": 25,
      "outputs": []
    },
    {
      "cell_type": "markdown",
      "metadata": {
        "id": "jgeCrlak5AMG"
      },
      "source": [
        "### 3. Extending to CNNs"
      ]
    },
    {
      "cell_type": "markdown",
      "metadata": {
        "id": "WKBhdpFaYw8s"
      },
      "source": [
        "\n",
        "Now, let's replicate the same architecture from the visualization provided on the previous video:\n",
        "![Screen Shot 2019-05-14 at 12 58 15](https://user-images.githubusercontent.com/5733246/57713463-e8627400-7648-11e9-8c64-3745519dbb20.png)\n",
        "\n",
        "The analog architecture that is going to be used is:\n",
        "- Conv. Layer with 6 filters\n",
        "- Maxpooling\n",
        "- Conv. Layer with 16 filters\n",
        "- Maxpooling\n",
        "- Fully connected layer with 120 units\n",
        "- Fully connected layer with 100 units\n",
        "- Output layer with 10 units\n"
      ]
    },
    {
      "cell_type": "markdown",
      "metadata": {
        "id": "HrF_r7NgYzJ6"
      },
      "source": [
        "#### 3.1 CNN - First Intuitions"
      ]
    },
    {
      "cell_type": "code",
      "metadata": {
        "id": "qkbHsiImpcGH"
      },
      "source": [
        "from tensorflow.keras.layers import Conv2D"
      ],
      "execution_count": 26,
      "outputs": []
    },
    {
      "cell_type": "code",
      "metadata": {
        "colab": {
          "base_uri": "https://localhost:8080/"
        },
        "id": "3nm4MecjrtCn",
        "outputId": "36f854d9-6854-4da2-8ebb-c706f8df6b6b"
      },
      "source": [
        "X_train[0].shape"
      ],
      "execution_count": 27,
      "outputs": [
        {
          "output_type": "execute_result",
          "data": {
            "text/plain": [
              "(28, 28)"
            ]
          },
          "metadata": {},
          "execution_count": 27
        }
      ]
    },
    {
      "cell_type": "code",
      "metadata": {
        "id": "tDgY5gpTpcDf"
      },
      "source": [
        "conv = Conv2D(1, kernel_size=(3, 3))"
      ],
      "execution_count": 28,
      "outputs": []
    },
    {
      "cell_type": "code",
      "metadata": {
        "id": "-s77GczvsOD4"
      },
      "source": [
        "x=X_train_norm[0].reshape(1, 28, 28, 1)"
      ],
      "execution_count": 29,
      "outputs": []
    },
    {
      "cell_type": "code",
      "metadata": {
        "colab": {
          "base_uri": "https://localhost:8080/",
          "height": 0
        },
        "id": "AFtw6SwqtRri",
        "outputId": "683bf0a7-f9de-4988-aee7-7e4d52b650d3"
      },
      "source": [
        "plt.imshow(X_train_norm[0], cmap='gray')"
      ],
      "execution_count": 30,
      "outputs": [
        {
          "output_type": "execute_result",
          "data": {
            "text/plain": [
              "<matplotlib.image.AxesImage at 0x7f1c54587f50>"
            ]
          },
          "metadata": {},
          "execution_count": 30
        },
        {
          "output_type": "display_data",
          "data": {
            "image/png": "[encoded data removed]",
            "text/plain": [
              "<Figure size 432x288 with 1 Axes>"
            ]
          },
          "metadata": {
            "needs_background": "light"
          }
        }
      ]
    },
    {
      "cell_type": "code",
      "metadata": {
        "colab": {
          "base_uri": "https://localhost:8080/"
        },
        "id": "qHmAiSPxtewo",
        "outputId": "516d57ef-3919-4b05-c24c-27239f30e37c"
      },
      "source": [
        "conv.weights"
      ],
      "execution_count": 31,
      "outputs": [
        {
          "output_type": "execute_result",
          "data": {
            "text/plain": [
              "[]"
            ]
          },
          "metadata": {},
          "execution_count": 31
        }
      ]
    },
    {
      "cell_type": "code",
      "metadata": {
        "id": "1JctonjntFI4"
      },
      "source": [
        "new_x = conv(x)"
      ],
      "execution_count": 32,
      "outputs": []
    },
    {
      "cell_type": "code",
      "metadata": {
        "id": "C23ENSFXtqyI"
      },
      "source": [
        "new_x=new_x.numpy()"
      ],
      "execution_count": 33,
      "outputs": []
    },
    {
      "cell_type": "code",
      "metadata": {
        "id": "r8v8yKLVtkDL"
      },
      "source": [
        "new_x=new_x.reshape(26, 26)"
      ],
      "execution_count": 34,
      "outputs": []
    },
    {
      "cell_type": "code",
      "metadata": {
        "colab": {
          "base_uri": "https://localhost:8080/",
          "height": 0
        },
        "id": "TE9dotrAtaRy",
        "outputId": "ed0a0feb-8e9f-4838-f8d5-6e9990361ae5"
      },
      "source": [
        "plt.imshow(new_x, cmap='gray')"
      ],
      "execution_count": 35,
      "outputs": [
        {
          "output_type": "execute_result",
          "data": {
            "text/plain": [
              "<matplotlib.image.AxesImage at 0x7f1c54505c10>"
            ]
          },
          "metadata": {},
          "execution_count": 35
        },
        {
          "output_type": "display_data",
          "data": {
            "image/png": "[encoded data removed]",
            "text/plain": [
              "<Figure size 432x288 with 1 Axes>"
            ]
          },
          "metadata": {
            "needs_background": "light"
          }
        }
      ]
    },
    {
      "cell_type": "markdown",
      "metadata": {
        "id": "HpibtCNRvo_0"
      },
      "source": [
        "#### 3.2 One Conv-Layer"
      ]
    },
    {
      "cell_type": "code",
      "metadata": {
        "id": "sztPq5_jvv3A"
      },
      "source": [
        "from tensorflow.keras.layers import Conv2D\n",
        "\n",
        "model = Sequential([\n",
        "                    Conv2D(6, \n",
        "                           kernel_size=(3,3), \n",
        "                           input_shape=(28, 28, 1)),\n",
        "                    Flatten(),\n",
        "                    Dense(120, activation='relu'),\n",
        "                    Dense(100, activation='relu'),\n",
        "                    Dense(10, activation='softmax')\n",
        "])"
      ],
      "execution_count": 36,
      "outputs": []
    },
    {
      "cell_type": "code",
      "metadata": {
        "colab": {
          "base_uri": "https://localhost:8080/"
        },
        "id": "zpjzZfPAtaPR",
        "outputId": "a4443a9c-f4ab-459a-e39b-c4d858abfbef"
      },
      "source": [
        "model.summary()"
      ],
      "execution_count": 37,
      "outputs": [
        {
          "output_type": "stream",
          "name": "stdout",
          "text": [
            "Model: \"sequential_1\"\n",
            "_________________________________________________________________\n",
            "Layer (type)                 Output Shape              Param #   \n",
            "=================================================================\n",
            "conv2d_1 (Conv2D)            (None, 26, 26, 6)         60        \n",
            "_________________________________________________________________\n",
            "flatten_1 (Flatten)          (None, 4056)              0         \n",
            "_________________________________________________________________\n",
            "dense_2 (Dense)              (None, 120)               486840    \n",
            "_________________________________________________________________\n",
            "dense_3 (Dense)              (None, 100)               12100     \n",
            "_________________________________________________________________\n",
            "dense_4 (Dense)              (None, 10)                1010      \n",
            "=================================================================\n",
            "Total params: 500,010\n",
            "Trainable params: 500,010\n",
            "Non-trainable params: 0\n",
            "_________________________________________________________________\n"
          ]
        }
      ]
    },
    {
      "cell_type": "code",
      "metadata": {
        "id": "lMBC5aJcyBR6"
      },
      "source": [
        "model.compile(optimizer='adam', \n",
        "              loss='sparse_categorical_crossentropy',\n",
        "              metrics=['accuracy']\n",
        "              )"
      ],
      "execution_count": 38,
      "outputs": []
    },
    {
      "cell_type": "code",
      "metadata": {
        "id": "8nEL3U9GyUfL"
      },
      "source": [
        "X_train_norm=X_train_norm.reshape(60000, 28, 28, 1)\n",
        "X_test_norm=X_test_norm.reshape(-1, 28, 28, 1)"
      ],
      "execution_count": 39,
      "outputs": []
    },
    {
      "cell_type": "code",
      "metadata": {
        "colab": {
          "base_uri": "https://localhost:8080/"
        },
        "id": "_wAfo4l4yBPI",
        "outputId": "1b41fa8a-5bb6-458a-9606-d94576dff4e6"
      },
      "source": [
        "hist = model.fit(X_train_norm, \n",
        "          y_train, \n",
        "          validation_data=(X_test_norm, y_test), \n",
        "          epochs=5)"
      ],
      "execution_count": 40,
      "outputs": [
        {
          "output_type": "stream",
          "name": "stdout",
          "text": [
            "Epoch 1/5\n",
            "1875/1875 [==============================] - 5s 2ms/step - loss: 0.1969 - accuracy: 0.9398 - val_loss: 0.1175 - val_accuracy: 0.9622\n",
            "Epoch 2/5\n",
            "1875/1875 [==============================] - 5s 2ms/step - loss: 0.0935 - accuracy: 0.9715 - val_loss: 0.0846 - val_accuracy: 0.9745\n",
            "Epoch 3/5\n",
            "1875/1875 [==============================] - 4s 2ms/step - loss: 0.0667 - accuracy: 0.9789 - val_loss: 0.0935 - val_accuracy: 0.9723\n",
            "Epoch 4/5\n",
            "1875/1875 [==============================] - 4s 2ms/step - loss: 0.0485 - accuracy: 0.9843 - val_loss: 0.0903 - val_accuracy: 0.9749\n",
            "Epoch 5/5\n",
            "1875/1875 [==============================] - 4s 2ms/step - loss: 0.0377 - accuracy: 0.9873 - val_loss: 0.0983 - val_accuracy: 0.9749\n"
          ]
        }
      ]
    },
    {
      "cell_type": "code",
      "metadata": {
        "id": "7aDZg7c8yBM0"
      },
      "source": [
        ""
      ],
      "execution_count": 40,
      "outputs": []
    },
    {
      "cell_type": "markdown",
      "metadata": {
        "id": "bmu4vKhzXtPI"
      },
      "source": [
        "#### 3.3 Two Conv-Layer + Maxpooling\n",
        "\n",
        "And now, let's finish the architecture:"
      ]
    },
    {
      "cell_type": "code",
      "metadata": {
        "id": "HgQhyM9gpegx"
      },
      "source": [
        "from tensorflow.keras.layers import MaxPool2D\n",
        "from tensorflow.keras.layers import Conv2D\n",
        "\n",
        "model = Sequential([\n",
        "                    Conv2D(6, kernel_size=(3,3), input_shape=(28, 28, 1), activation='relu'),\n",
        "                    MaxPool2D(),\n",
        "                    Conv2D(16, kernel_size=(3,3), activation='relu'),\n",
        "                    MaxPool2D(),\n",
        "                    Flatten(),\n",
        "                    Dense(120, activation='relu'),\n",
        "                    Dense(100, activation='relu'),\n",
        "                    Dense(10, activation='softmax')\n",
        "])"
      ],
      "execution_count": 41,
      "outputs": []
    },
    {
      "cell_type": "code",
      "metadata": {
        "colab": {
          "base_uri": "https://localhost:8080/"
        },
        "id": "0aW0Dz4d5jHU",
        "outputId": "3e1b8049-ed72-4635-9210-22fcd9e9907e"
      },
      "source": [
        "model.summary()"
      ],
      "execution_count": 42,
      "outputs": [
        {
          "output_type": "stream",
          "name": "stdout",
          "text": [
            "Model: \"sequential_2\"\n",
            "_________________________________________________________________\n",
            "Layer (type)                 Output Shape              Param #   \n",
            "=================================================================\n",
            "conv2d_2 (Conv2D)            (None, 26, 26, 6)         60        \n",
            "_________________________________________________________________\n",
            "max_pooling2d (MaxPooling2D) (None, 13, 13, 6)         0         \n",
            "_________________________________________________________________\n",
            "conv2d_3 (Conv2D)            (None, 11, 11, 16)        880       \n",
            "_________________________________________________________________\n",
            "max_pooling2d_1 (MaxPooling2 (None, 5, 5, 16)          0         \n",
            "_________________________________________________________________\n",
            "flatten_2 (Flatten)          (None, 400)               0         \n",
            "_________________________________________________________________\n",
            "dense_5 (Dense)              (None, 120)               48120     \n",
            "_________________________________________________________________\n",
            "dense_6 (Dense)              (None, 100)               12100     \n",
            "_________________________________________________________________\n",
            "dense_7 (Dense)              (None, 10)                1010      \n",
            "=================================================================\n",
            "Total params: 62,170\n",
            "Trainable params: 62,170\n",
            "Non-trainable params: 0\n",
            "_________________________________________________________________\n"
          ]
        }
      ]
    },
    {
      "cell_type": "code",
      "metadata": {
        "id": "_XE8qNvmpeeC"
      },
      "source": [
        "model.compile(optimizer='adam', \n",
        "              loss='sparse_categorical_crossentropy',\n",
        "              metrics=['accuracy']\n",
        "              )"
      ],
      "execution_count": 43,
      "outputs": []
    },
    {
      "cell_type": "code",
      "metadata": {
        "colab": {
          "base_uri": "https://localhost:8080/"
        },
        "id": "1ZQoYubw52zq",
        "outputId": "1c935179-17b4-497b-8420-e3d53106950c"
      },
      "source": [
        "hist = model.fit(X_train_norm, \n",
        "          y_train, \n",
        "          validation_data=(X_test_norm, y_test), \n",
        "          epochs=5)"
      ],
      "execution_count": 44,
      "outputs": [
        {
          "output_type": "stream",
          "name": "stdout",
          "text": [
            "Epoch 1/5\n",
            "1875/1875 [==============================] - 6s 3ms/step - loss: 0.1632 - accuracy: 0.9506 - val_loss: 0.0687 - val_accuracy: 0.9786\n",
            "Epoch 2/5\n",
            "1875/1875 [==============================] - 5s 3ms/step - loss: 0.0589 - accuracy: 0.9820 - val_loss: 0.0740 - val_accuracy: 0.9750\n",
            "Epoch 3/5\n",
            "1875/1875 [==============================] - 5s 3ms/step - loss: 0.0419 - accuracy: 0.9867 - val_loss: 0.0354 - val_accuracy: 0.9884\n",
            "Epoch 4/5\n",
            "1875/1875 [==============================] - 5s 3ms/step - loss: 0.0325 - accuracy: 0.9896 - val_loss: 0.0353 - val_accuracy: 0.9873\n",
            "Epoch 5/5\n",
            "1875/1875 [==============================] - 5s 3ms/step - loss: 0.0260 - accuracy: 0.9915 - val_loss: 0.0577 - val_accuracy: 0.9822\n"
          ]
        }
      ]
    },
    {
      "cell_type": "code",
      "metadata": {
        "id": "qf9kaoFE52vi"
      },
      "source": [
        "model.save('best_model.h5')"
      ],
      "execution_count": 45,
      "outputs": []
    },
    {
      "cell_type": "markdown",
      "metadata": {
        "id": "XXSBPdESYXDR"
      },
      "source": [
        "### 4. Visualizing predictions"
      ]
    },
    {
      "cell_type": "markdown",
      "metadata": {
        "id": "2xFczDTBY3SL"
      },
      "source": [
        "Finally, let's visualize some predictions:"
      ]
    },
    {
      "cell_type": "code",
      "metadata": {
        "id": "p0FUlhOc8WnY"
      },
      "source": [
        "x=X_test_norm[0].reshape(1, 28, 28, 1)"
      ],
      "execution_count": 46,
      "outputs": []
    },
    {
      "cell_type": "code",
      "metadata": {
        "colab": {
          "base_uri": "https://localhost:8080/",
          "height": 282
        },
        "id": "nUNKJb1c9dGy",
        "outputId": "4782d14b-becf-4114-d075-4dd61cbfa8c6"
      },
      "source": [
        "plt.imshow(x.reshape(28, 28), cmap='gray')"
      ],
      "execution_count": 47,
      "outputs": [
        {
          "output_type": "execute_result",
          "data": {
            "text/plain": [
              "<matplotlib.image.AxesImage at 0x7f1c5413c710>"
            ]
          },
          "metadata": {},
          "execution_count": 47
        },
        {
          "output_type": "display_data",
          "data": {
            "image/png": "[encoded data removed]",
            "text/plain": [
              "<Figure size 432x288 with 1 Axes>"
            ]
          },
          "metadata": {
            "needs_background": "light"
          }
        }
      ]
    },
    {
      "cell_type": "code",
      "metadata": {
        "id": "4c56X0SApfxM"
      },
      "source": [
        "pred = model.predict(x)"
      ],
      "execution_count": 48,
      "outputs": []
    },
    {
      "cell_type": "code",
      "metadata": {
        "colab": {
          "base_uri": "https://localhost:8080/"
        },
        "id": "3TDFRJg_9JNN",
        "outputId": "d5f091e9-fdf3-403a-d7f9-73d1831c3289"
      },
      "source": [
        "pred"
      ],
      "execution_count": 49,
      "outputs": [
        {
          "output_type": "execute_result",
          "data": {
            "text/plain": [
              "array([[3.9376326e-07, 3.0660453e-06, 3.5256580e-05, 9.5730302e-06,\n",
              "        1.3245681e-06, 1.3147310e-07, 1.3568918e-09, 9.9994922e-01,\n",
              "        8.3411857e-07, 2.1138348e-07]], dtype=float32)"
            ]
          },
          "metadata": {},
          "execution_count": 49
        }
      ]
    },
    {
      "cell_type": "code",
      "metadata": {
        "colab": {
          "base_uri": "https://localhost:8080/"
        },
        "id": "81Cmbzjc8wlo",
        "outputId": "d179a7e1-5c99-43d4-c324-d5baf5b59b89"
      },
      "source": [
        "idx = pred.argmax()\n",
        "idx"
      ],
      "execution_count": 50,
      "outputs": [
        {
          "output_type": "execute_result",
          "data": {
            "text/plain": [
              "7"
            ]
          },
          "metadata": {},
          "execution_count": 50
        }
      ]
    },
    {
      "cell_type": "code",
      "metadata": {
        "colab": {
          "base_uri": "https://localhost:8080/"
        },
        "id": "AWEopuDA9Nq-",
        "outputId": "966c1dbc-12e6-4d01-966f-cbc1c7170c6b"
      },
      "source": [
        "pred[0][idx]"
      ],
      "execution_count": 51,
      "outputs": [
        {
          "output_type": "execute_result",
          "data": {
            "text/plain": [
              "0.9999492"
            ]
          },
          "metadata": {},
          "execution_count": 51
        }
      ]
    },
    {
      "cell_type": "code",
      "metadata": {
        "colab": {
          "base_uri": "https://localhost:8080/"
        },
        "id": "r8awhfK0pfu7",
        "outputId": "ad048dd3-6a62-40b2-b450-8fe458353a2b"
      },
      "source": [
        "y_test[0]"
      ],
      "execution_count": 52,
      "outputs": [
        {
          "output_type": "execute_result",
          "data": {
            "text/plain": [
              "7"
            ]
          },
          "metadata": {},
          "execution_count": 52
        }
      ]
    },
    {
      "cell_type": "code",
      "metadata": {
        "colab": {
          "base_uri": "https://localhost:8080/",
          "height": 1000
        },
        "id": "OBvUO-9L9XvA",
        "outputId": "5da9add7-9056-4b44-8cb2-13e833c37921"
      },
      "source": [
        "for idx in range(5):\n",
        "    x=X_test_norm[idx].reshape(1, 28, 28, 1)\n",
        "    plt.imshow(x.reshape(28, 28), cmap='gray')\n",
        "    pred = model.predict(x)\n",
        "    pred_class = pred.argmax()\n",
        "    plt.title(f'True {y_test[idx]}, Pred: {pred_class}, Proba: {pred[0][pred_class]*100:.2f}%')\n",
        "    plt.show()\n"
      ],
      "execution_count": 53,
      "outputs": [
        {
          "output_type": "display_data",
          "data": {
            "image/png": "[encoded data removed]",
            "text/plain": [
              "<Figure size 432x288 with 1 Axes>"
            ]
          },
          "metadata": {
            "needs_background": "light"
          }
        },
        {
          "output_type": "display_data",
          "data": {
            "image/png": "[encoded data removed]",
            "text/plain": [
              "<Figure size 432x288 with 1 Axes>"
            ]
          },
          "metadata": {
            "needs_background": "light"
          }
        },
        {
          "output_type": "display_data",
          "data": {
            "image/png": "[encoded data removed]",
            "text/plain": [
              "<Figure size 432x288 with 1 Axes>"
            ]
          },
          "metadata": {
            "needs_background": "light"
          }
        },
        {
          "output_type": "display_data",
          "data": {
            "image/png": "[encoded data removed]",
            "text/plain": [
              "<Figure size 432x288 with 1 Axes>"
            ]
          },
          "metadata": {
            "needs_background": "light"
          }
        },
        {
          "output_type": "display_data",
          "data": {
            "image/png": "[encoded data removed]",
            "text/plain": [
              "<Figure size 432x288 with 1 Axes>"
            ]
          },
          "metadata": {
            "needs_background": "light"
          }
        }
      ]
    },
    {
      "cell_type": "markdown",
      "metadata": {
        "id": "-qolI1L4ACzG"
      },
      "source": [
        "### 5. (Bonus) Visualizing Conv Filters"
      ]
    },
    {
      "cell_type": "code",
      "metadata": {
        "id": "AooAXtV4AHRz"
      },
      "source": [
        "conv_layer = model.layers[0]"
      ],
      "execution_count": 54,
      "outputs": []
    },
    {
      "cell_type": "code",
      "metadata": {
        "id": "WWyfvQZHBPbv"
      },
      "source": [
        "#conv_layer.weights"
      ],
      "execution_count": 55,
      "outputs": []
    },
    {
      "cell_type": "code",
      "metadata": {
        "id": "v1fUbCIABef1"
      },
      "source": [
        "x=X_train_norm[0].reshape(1, 28, 28, 1)"
      ],
      "execution_count": 56,
      "outputs": []
    },
    {
      "cell_type": "code",
      "metadata": {
        "colab": {
          "base_uri": "https://localhost:8080/",
          "height": 282
        },
        "id": "BLmuzYbtAHPS",
        "outputId": "43e5182e-d10d-4379-89a8-77c0d27fddc1"
      },
      "source": [
        "plt.imshow(x.reshape(28,28), cmap='gray')"
      ],
      "execution_count": 57,
      "outputs": [
        {
          "output_type": "execute_result",
          "data": {
            "text/plain": [
              "<matplotlib.image.AxesImage at 0x7f1cc0101dd0>"
            ]
          },
          "metadata": {},
          "execution_count": 57
        },
        {
          "output_type": "display_data",
          "data": {
            "image/png": "[encoded data removed]",
            "text/plain": [
              "<Figure size 432x288 with 1 Axes>"
            ]
          },
          "metadata": {
            "needs_background": "light"
          }
        }
      ]
    },
    {
      "cell_type": "code",
      "metadata": {
        "id": "2tnMoYOuEKKH"
      },
      "source": [
        "conv_layer?"
      ],
      "execution_count": 58,
      "outputs": []
    },
    {
      "cell_type": "code",
      "metadata": {
        "id": "TCVraxpb8n2d"
      },
      "source": [
        "output_imgs = conv_layer(x)"
      ],
      "execution_count": 59,
      "outputs": []
    },
    {
      "cell_type": "code",
      "metadata": {
        "colab": {
          "base_uri": "https://localhost:8080/"
        },
        "id": "5qRR_vmNBtmG",
        "outputId": "0aa3b2f1-6484-499c-f085-8aecb40f951c"
      },
      "source": [
        "output_imgs.shape"
      ],
      "execution_count": 60,
      "outputs": [
        {
          "output_type": "execute_result",
          "data": {
            "text/plain": [
              "TensorShape([1, 26, 26, 6])"
            ]
          },
          "metadata": {},
          "execution_count": 60
        }
      ]
    },
    {
      "cell_type": "code",
      "metadata": {
        "id": "8y9ER3Z_ByRW"
      },
      "source": [
        "#output_img"
      ],
      "execution_count": 61,
      "outputs": []
    },
    {
      "cell_type": "code",
      "metadata": {
        "colab": {
          "base_uri": "https://localhost:8080/",
          "height": 1000
        },
        "id": "2xILWuB8BsZp",
        "outputId": "ab404fc5-70d8-496c-e332-b56d5afc5b53"
      },
      "source": [
        "for idx in range(6):\n",
        "    img=output_imgs[:, :, :, idx].numpy().reshape(26,26)\n",
        "    plt.imshow(img, cmap='gray')\n",
        "    plt.title('Output Image')\n",
        "    plt.show()"
      ],
      "execution_count": 63,
      "outputs": [
        {
          "output_type": "display_data",
          "data": {
            "image/png": "[encoded data removed]",
            "text/plain": [
              "<Figure size 432x288 with 1 Axes>"
            ]
          },
          "metadata": {
            "needs_background": "light"
          }
        },
        {
          "output_type": "display_data",
          "data": {
            "image/png": "[encoded data removed]",
            "text/plain": [
              "<Figure size 432x288 with 1 Axes>"
            ]
          },
          "metadata": {
            "needs_background": "light"
          }
        },
        {
          "output_type": "display_data",
          "data": {
            "image/png": "[encoded data removed]",
            "text/plain": [
              "<Figure size 432x288 with 1 Axes>"
            ]
          },
          "metadata": {
            "needs_background": "light"
          }
        },
        {
          "output_type": "display_data",
          "data": {
            "image/png": "[encoded data removed]",
            "text/plain": [
              "<Figure size 432x288 with 1 Axes>"
            ]
          },
          "metadata": {
            "needs_background": "light"
          }
        },
        {
          "output_type": "display_data",
          "data": {
            "image/png": "[encoded data removed]",
            "text/plain": [
              "<Figure size 432x288 with 1 Axes>"
            ]
          },
          "metadata": {
            "needs_background": "light"
          }
        },
        {
          "output_type": "display_data",
          "data": {
            "image/png": "[encoded data removed]",
            "text/plain": [
              "<Figure size 432x288 with 1 Axes>"
            ]
          },
          "metadata": {
            "needs_background": "light"
          }
        }
      ]
    },
    {
      "cell_type": "code",
      "metadata": {
        "id": "nh_oiOmLBsUQ"
      },
      "source": [
        ""
      ],
      "execution_count": null,
      "outputs": []
    }
  ]
}