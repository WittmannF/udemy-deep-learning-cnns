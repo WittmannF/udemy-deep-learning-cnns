{
  "nbformat": 4,
  "nbformat_minor": 0,
  "metadata": {
    "accelerator": "GPU",
    "anaconda-cloud": {},
    "colab": {
      "name": "assignment-cnn-preenchido.ipynb",
      "provenance": [],
      "include_colab_link": true
    },
    "kernelspec": {
      "name": "python3",
      "display_name": "Python 3"
    },
    "language_info": {
      "name": "python"
    }
  },
  "cells": [
    {
      "cell_type": "markdown",
      "metadata": {
        "id": "view-in-github",
        "colab_type": "text"
      },
      "source": [
        "<a href=\"https://colab.research.google.com/github/WittmannF/udemy-deep-learning-cnns/blob/main/assignment_cnn_preenchido.ipynb\" target=\"_parent\"><img src=\"https://colab.research.google.com/assets/colab-badge.svg\" alt=\"Open In Colab\"/></a>"
      ]
    },
    {
      "cell_type": "markdown",
      "metadata": {
        "id": "kKhMLqYhT-kV"
      },
      "source": [
        "## Assignment: Fashion MNIST\n",
        "Now it is your turn! You are going to use the same methods presented in the previous video in order to classify clothes from a black and white dataset of images (image by Zalando, MIT License):\n",
        "![](https://tensorflow.org/images/fashion-mnist-sprite.png)\n",
        "\n",
        "The class labels are:\n",
        "```\n",
        "0. T-shirt/top\n",
        "1. Trouser\n",
        "2. Pullover\n",
        "3. Dress\n",
        "4. Coat\n",
        "5. Sandal\n",
        "6. Shirt\n",
        "7. Sneaker\n",
        "8. Bag\n",
        "9. Ankle boot\n",
        "```\n",
        "\n",
        "### 1. Preparing the input data\n",
        "Let's first import the dataset. It is available on [tensorflow.keras.datasets](https://keras.io/datasets/):"
      ]
    },
    {
      "cell_type": "code",
      "metadata": {
        "id": "6jmqASUFUhcA",
        "colab": {
          "base_uri": "https://localhost:8080/"
        },
        "outputId": "a6d0d0f2-4de4-4e81-b653-29491767bdd4"
      },
      "source": [
        "import tensorflow\n",
        "fashion_mnist = tensorflow.keras.datasets.fashion_mnist\n",
        "\n",
        "(X_train, y_train), (X_test, y_test) = fashion_mnist.load_data()"
      ],
      "execution_count": 1,
      "outputs": [
        {
          "output_type": "stream",
          "name": "stdout",
          "text": [
            "Downloading data from https://storage.googleapis.com/tensorflow/tf-keras-datasets/train-labels-idx1-ubyte.gz\n",
            "32768/29515 [=================================] - 0s 0us/step\n",
            "40960/29515 [=========================================] - 0s 0us/step\n",
            "Downloading data from https://storage.googleapis.com/tensorflow/tf-keras-datasets/train-images-idx3-ubyte.gz\n",
            "26427392/26421880 [==============================] - 0s 0us/step\n",
            "26435584/26421880 [==============================] - 0s 0us/step\n",
            "Downloading data from https://storage.googleapis.com/tensorflow/tf-keras-datasets/t10k-labels-idx1-ubyte.gz\n",
            "16384/5148 [===============================================================================================] - 0s 0us/step\n",
            "Downloading data from https://storage.googleapis.com/tensorflow/tf-keras-datasets/t10k-images-idx3-ubyte.gz\n",
            "4423680/4422102 [==============================] - 0s 0us/step\n",
            "4431872/4422102 [==============================] - 0s 0us/step\n"
          ]
        }
      ]
    },
    {
      "cell_type": "code",
      "metadata": {
        "id": "J7HxI9gKHrdo",
        "colab": {
          "base_uri": "https://localhost:8080/"
        },
        "outputId": "b5f73b25-6878-4661-bd9d-fa72f7aa894a"
      },
      "source": [
        "print(\"Shape of the training set: {}\".format(X_train.shape))\n",
        "print(\"Shape of the test set: {}\".format(X_test.shape))"
      ],
      "execution_count": 2,
      "outputs": [
        {
          "output_type": "stream",
          "name": "stdout",
          "text": [
            "Shape of the training set: (60000, 28, 28)\n",
            "Shape of the test set: (10000, 28, 28)\n"
          ]
        }
      ]
    },
    {
      "cell_type": "code",
      "metadata": {
        "collapsed": true,
        "id": "L2ocA0Q5Xl9D"
      },
      "source": [
        "# TODO: Normalize the training and testing set using standardization\n",
        "def normalize(x,m,s):\n",
        "    return (x-m)/s\n",
        "\n",
        "train_mean = X_train.mean()\n",
        "train_std = X_train.std()\n",
        "\n",
        "X_train = normalize(X_train, train_mean, train_std)\n",
        "X_test = normalize(X_test, train_mean, train_std)\n"
      ],
      "execution_count": 3,
      "outputs": []
    },
    {
      "cell_type": "code",
      "metadata": {
        "id": "Ds1WtmpkXmAE",
        "colab": {
          "base_uri": "https://localhost:8080/"
        },
        "outputId": "b154df8c-c665-4880-958a-f97594974cfc"
      },
      "source": [
        "print(f'Training Mean after standardization {X_train.mean():.3f}')\n",
        "print(f'Training Std after standardization {X_train.std():.3f}')\n",
        "print(f'Test Mean after standardization {X_test.mean():.3f}')\n",
        "print(f'Test Std after standardization {X_test.std():.3f}')"
      ],
      "execution_count": 4,
      "outputs": [
        {
          "output_type": "stream",
          "name": "stdout",
          "text": [
            "Training Mean after standardization -0.000\n",
            "Training Std after standardization 1.000\n",
            "Test Mean after standardization 0.002\n",
            "Test Std after standardization 0.998\n"
          ]
        }
      ]
    },
    {
      "cell_type": "markdown",
      "metadata": {
        "id": "lKgrpw8BLXgG"
      },
      "source": [
        "### 2. Training with fully connected layers"
      ]
    },
    {
      "cell_type": "code",
      "metadata": {
        "id": "GLcpBsFuHrdp",
        "colab": {
          "base_uri": "https://localhost:8080/"
        },
        "outputId": "cbda2be1-70d5-4a15-8940-d4b3db65b4cd"
      },
      "source": [
        "from tensorflow.keras.models import Sequential\n",
        "from tensorflow.keras.layers import Flatten, Dense\n",
        "\n",
        "model = Sequential([\n",
        "    Flatten(),\n",
        "    Dense(512, activation='relu'),\n",
        "    Dense(10, activation='softmax')\n",
        "])\n",
        "\n",
        "model.compile(optimizer='adam',\n",
        "              loss='sparse_categorical_crossentropy',\n",
        "              metrics=['accuracy'])\n",
        "\n",
        "model.fit(X_train, y_train, epochs=2, validation_data=(X_test, y_test))"
      ],
      "execution_count": 5,
      "outputs": [
        {
          "output_type": "stream",
          "name": "stdout",
          "text": [
            "Epoch 1/2\n",
            "1875/1875 [==============================] - 6s 2ms/step - loss: 0.4515 - accuracy: 0.8380 - val_loss: 0.4077 - val_accuracy: 0.8497\n",
            "Epoch 2/2\n",
            "1875/1875 [==============================] - 4s 2ms/step - loss: 0.3473 - accuracy: 0.8720 - val_loss: 0.3933 - val_accuracy: 0.8556\n"
          ]
        },
        {
          "output_type": "execute_result",
          "data": {
            "text/plain": [
              "<keras.callbacks.History at 0x7f8f8c0d9ad0>"
            ]
          },
          "metadata": {},
          "execution_count": 5
        }
      ]
    },
    {
      "cell_type": "markdown",
      "metadata": {
        "id": "2OfsImcOHrdq"
      },
      "source": [
        "### 3. Extending to CNNs\n",
        "Now your goal is to develop an architecture that can reach a test accuracy higher than 0.85."
      ]
    },
    {
      "cell_type": "code",
      "metadata": {
        "colab": {
          "base_uri": "https://localhost:8080/"
        },
        "id": "_jCJybBGLfmq",
        "outputId": "dd3e5bc4-c7a6-459a-df77-3b7cc23e987d"
      },
      "source": [
        "X_train.shape"
      ],
      "execution_count": 6,
      "outputs": [
        {
          "output_type": "execute_result",
          "data": {
            "text/plain": [
              "(60000, 28, 28)"
            ]
          },
          "metadata": {},
          "execution_count": 6
        }
      ]
    },
    {
      "cell_type": "code",
      "metadata": {
        "collapsed": true,
        "id": "0MXb6rZCHrdq"
      },
      "source": [
        "# TODO: Reshape the dataset in order to add the channel dimension\n",
        "X_train = X_train.reshape(-1, 28, 28, 1)\n",
        "X_test = X_test.reshape(-1, 28, 28, 1)"
      ],
      "execution_count": 7,
      "outputs": []
    },
    {
      "cell_type": "code",
      "metadata": {
        "id": "UnxgT_PfHrdq",
        "colab": {
          "base_uri": "https://localhost:8080/"
        },
        "outputId": "40247af2-665a-4090-ff6a-cb201b96abc5"
      },
      "source": [
        "from tensorflow.keras.layers import Conv2D, MaxPooling2D\n",
        "\n",
        "model = Sequential([\n",
        "    Conv2D(6, kernel_size=(3,3), activation='relu', input_shape=(28,28,1)),\n",
        "    MaxPooling2D(),\n",
        "    Conv2D(16, kernel_size=(3,3), activation='relu'),\n",
        "    MaxPooling2D(),\n",
        "    Flatten(),\n",
        "    Dense(512, activation='relu'),\n",
        "    Dense(10, activation='softmax')\n",
        "])\n",
        "\n",
        "model.summary()"
      ],
      "execution_count": 8,
      "outputs": [
        {
          "output_type": "stream",
          "name": "stdout",
          "text": [
            "Model: \"sequential_1\"\n",
            "_________________________________________________________________\n",
            "Layer (type)                 Output Shape              Param #   \n",
            "=================================================================\n",
            "conv2d (Conv2D)              (None, 26, 26, 6)         60        \n",
            "_________________________________________________________________\n",
            "max_pooling2d (MaxPooling2D) (None, 13, 13, 6)         0         \n",
            "_________________________________________________________________\n",
            "conv2d_1 (Conv2D)            (None, 11, 11, 16)        880       \n",
            "_________________________________________________________________\n",
            "max_pooling2d_1 (MaxPooling2 (None, 5, 5, 16)          0         \n",
            "_________________________________________________________________\n",
            "flatten_1 (Flatten)          (None, 400)               0         \n",
            "_________________________________________________________________\n",
            "dense_2 (Dense)              (None, 512)               205312    \n",
            "_________________________________________________________________\n",
            "dense_3 (Dense)              (None, 10)                5130      \n",
            "=================================================================\n",
            "Total params: 211,382\n",
            "Trainable params: 211,382\n",
            "Non-trainable params: 0\n",
            "_________________________________________________________________\n"
          ]
        }
      ]
    },
    {
      "cell_type": "code",
      "metadata": {
        "id": "HS_4FfVZMC-1"
      },
      "source": [
        "model.compile(optimizer='adam',\n",
        "              loss='sparse_categorical_crossentropy',\n",
        "              metrics=['accuracy'])\n"
      ],
      "execution_count": 9,
      "outputs": []
    },
    {
      "cell_type": "code",
      "metadata": {
        "colab": {
          "base_uri": "https://localhost:8080/"
        },
        "id": "rDhWpe9MMC8U",
        "outputId": "4d5e5b92-1c52-4973-df0b-995255742e52"
      },
      "source": [
        "hist=model.fit(X_train, y_train, epochs=10, validation_data=(X_test, y_test))"
      ],
      "execution_count": 10,
      "outputs": [
        {
          "output_type": "stream",
          "name": "stdout",
          "text": [
            "Epoch 1/10\n",
            "1875/1875 [==============================] - 21s 3ms/step - loss: 0.4505 - accuracy: 0.8368 - val_loss: 0.3674 - val_accuracy: 0.8636\n",
            "Epoch 2/10\n",
            "1875/1875 [==============================] - 5s 3ms/step - loss: 0.3198 - accuracy: 0.8812 - val_loss: 0.3373 - val_accuracy: 0.8787\n",
            "Epoch 3/10\n",
            "1875/1875 [==============================] - 5s 3ms/step - loss: 0.2808 - accuracy: 0.8971 - val_loss: 0.3061 - val_accuracy: 0.8911\n",
            "Epoch 4/10\n",
            "1875/1875 [==============================] - 5s 3ms/step - loss: 0.2502 - accuracy: 0.9064 - val_loss: 0.3113 - val_accuracy: 0.8861\n",
            "Epoch 5/10\n",
            "1875/1875 [==============================] - 5s 3ms/step - loss: 0.2270 - accuracy: 0.9147 - val_loss: 0.2970 - val_accuracy: 0.8898\n",
            "Epoch 6/10\n",
            "1875/1875 [==============================] - 5s 3ms/step - loss: 0.2039 - accuracy: 0.9232 - val_loss: 0.2721 - val_accuracy: 0.9022\n",
            "Epoch 7/10\n",
            "1875/1875 [==============================] - 5s 3ms/step - loss: 0.1843 - accuracy: 0.9305 - val_loss: 0.2746 - val_accuracy: 0.9061\n",
            "Epoch 8/10\n",
            "1875/1875 [==============================] - 5s 3ms/step - loss: 0.1652 - accuracy: 0.9372 - val_loss: 0.2927 - val_accuracy: 0.9047\n",
            "Epoch 9/10\n",
            "1875/1875 [==============================] - 5s 3ms/step - loss: 0.1484 - accuracy: 0.9436 - val_loss: 0.2862 - val_accuracy: 0.9040\n",
            "Epoch 10/10\n",
            "1875/1875 [==============================] - 5s 3ms/step - loss: 0.1318 - accuracy: 0.9504 - val_loss: 0.3239 - val_accuracy: 0.9003\n"
          ]
        }
      ]
    },
    {
      "cell_type": "code",
      "metadata": {
        "colab": {
          "base_uri": "https://localhost:8080/",
          "height": 282
        },
        "id": "uJJALmUDMC5W",
        "outputId": "50b51eca-ea8e-4c7e-835c-2c499902ec7a"
      },
      "source": [
        "import pandas as pd\n",
        "pd.DataFrame(hist.history).plot()"
      ],
      "execution_count": 11,
      "outputs": [
        {
          "output_type": "execute_result",
          "data": {
            "text/plain": [
              "<matplotlib.axes._subplots.AxesSubplot at 0x7f8f76463f50>"
            ]
          },
          "metadata": {},
          "execution_count": 11
        },
        {
          "output_type": "display_data",
          "data": {
            "image/png": "[encoded data removed]",
            "text/plain": [
              "<Figure size 432x288 with 1 Axes>"
            ]
          },
          "metadata": {
            "needs_background": "light"
          }
        }
      ]
    },
    {
      "cell_type": "markdown",
      "metadata": {
        "collapsed": true,
        "id": "JUprzA49Hrdq"
      },
      "source": [
        "### 4. Visualizing Predictions"
      ]
    },
    {
      "cell_type": "code",
      "metadata": {
        "collapsed": true,
        "id": "qNtKMmXVHrdq",
        "colab": {
          "base_uri": "https://localhost:8080/",
          "height": 1000
        },
        "outputId": "4603505a-aab1-4d0d-fcdc-8aecb9adaf38"
      },
      "source": [
        "import numpy as np\n",
        "import matplotlib.pyplot as plt\n",
        "\n",
        "label_names = {0:\"T-shirt/top\",\n",
        "               1:\"Trouser\",\n",
        "               2:\"Pullover\",\n",
        "               3:\"Dress\",\n",
        "               4:\"Coat\",\n",
        "               5:\"Sandal\",\n",
        "               6:\"Shirt\",\n",
        "               7:\"Sneaker\",\n",
        "               8:\"Bag\",\n",
        "               9:\"Ankle boot\"}\n",
        "\n",
        "# Index to be visualized\n",
        "for idx in range(5):\n",
        "    plt.imshow(X_test[idx].reshape(28,28), cmap='gray')\n",
        "    out = model.predict(X_test[idx].reshape(1,28,28,1))\n",
        "    plt.title(\"True: {}, Pred: {}\".format(label_names[y_test[idx]], label_names[np.argmax(out)]))\n",
        "    plt.show()"
      ],
      "execution_count": 12,
      "outputs": [
        {
          "output_type": "display_data",
          "data": {
            "image/png": "[encoded data removed]",
            "text/plain": [
              "<Figure size 432x288 with 1 Axes>"
            ]
          },
          "metadata": {
            "needs_background": "light"
          }
        },
        {
          "output_type": "display_data",
          "data": {
            "image/png": "[encoded data removed]",
            "text/plain": [
              "<Figure size 432x288 with 1 Axes>"
            ]
          },
          "metadata": {
            "needs_background": "light"
          }
        },
        {
          "output_type": "display_data",
          "data": {
            "image/png": "[encoded data removed]",
            "text/plain": [
              "<Figure size 432x288 with 1 Axes>"
            ]
          },
          "metadata": {
            "needs_background": "light"
          }
        },
        {
          "output_type": "display_data",
          "data": {
            "image/png": "[encoded data removed]",
            "text/plain": [
              "<Figure size 432x288 with 1 Axes>"
            ]
          },
          "metadata": {
            "needs_background": "light"
          }
        },
        {
          "output_type": "display_data",
          "data": {
            "image/png": "[encoded data removed]",
            "text/plain": [
              "<Figure size 432x288 with 1 Axes>"
            ]
          },
          "metadata": {
            "needs_background": "light"
          }
        }
      ]
    },
    {
      "cell_type": "code",
      "metadata": {
        "id": "gM0P7JprNS84"
      },
      "source": [
        ""
      ],
      "execution_count": 12,
      "outputs": []
    }
  ]
}