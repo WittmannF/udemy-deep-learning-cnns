{
  "nbformat": 4,
  "nbformat_minor": 0,
  "metadata": {
    "accelerator": "GPU",
    "anaconda-cloud": {},
    "colab": {
      "name": "cnn-implementation-blank.ipynb",
      "provenance": [],
      "include_colab_link": true
    },
    "kernelspec": {
      "display_name": "Python [conda env:tensorflow]",
      "language": "python",
      "name": "conda-env-tensorflow-py"
    },
    "language_info": {
      "codemirror_mode": {
        "name": "ipython",
        "version": 3
      },
      "file_extension": ".py",
      "mimetype": "text/x-python",
      "name": "python",
      "nbconvert_exporter": "python",
      "pygments_lexer": "ipython3",
      "version": "3.6.5"
    }
  },
  "cells": [
    {
      "cell_type": "markdown",
      "metadata": {
        "id": "view-in-github",
        "colab_type": "text"
      },
      "source": [
        "<a href=\"https://colab.research.google.com/github/WittmannF/udemy-deep-learning-cnns/blob/main/1.cnn_implementation_branco.ipynb\" target=\"_parent\"><img src=\"https://colab.research.google.com/assets/colab-badge.svg\" alt=\"Open In Colab\"/></a>"
      ]
    },
    {
      "cell_type": "markdown",
      "metadata": {
        "id": "v6OCC73yRnNv"
      },
      "source": [
        "## Convolutional Neural Networks - Implementation"
      ]
    },
    {
      "cell_type": "markdown",
      "metadata": {
        "id": "wqeZBG1GYsFC"
      },
      "source": [
        "Your goal in this project is to classify handwritten digits using Convolutional Neural Networks. Here are a few examples of images from the input data:\n",
        "\n",
        "![](https://upload.wikimedia.org/wikipedia/commons/2/27/MnistExamples.png)\n",
        "\n",
        "As output labels, we have a set of integer values ranging from 0 to 9. We are going to follow those steps in this notebook:\n",
        "\n",
        "1. **Prepare the input data**\n",
        "2. **Creating a simple fully connected model**\n",
        "3. **Extending to CNNs**\n",
        "4. **Visualizing Predictions**\n",
        "\n",
        "As a summary, three new classes/modules are going to be used:\n",
        "- [`tf.keras.layers.Flatten`](https://keras.io/layers/core/)\n",
        "    - Flattens the input. Does not affect the batch size.\n",
        "- [`tf.keras.layers.Conv2D`](https://keras.io/layers/convolutional/)\n",
        "    - 2D convolution layer\n",
        "- [`tf.keras.layers.MaxPooling2D`](https://keras.io/layers/pooling/)\n",
        "    - Max pooling operation for spatial data.\n",
        "\n"
      ]
    },
    {
      "cell_type": "markdown",
      "metadata": {
        "id": "8K3KJIeOYpSw"
      },
      "source": [
        "\n",
        "### 1. Preparing the input data"
      ]
    },
    {
      "cell_type": "code",
      "metadata": {
        "id": "P3vy7rAIX1xV"
      },
      "source": [
        ""
      ],
      "execution_count": null,
      "outputs": []
    },
    {
      "cell_type": "code",
      "metadata": {
        "id": "LXH4dioUX1um"
      },
      "source": [
        ""
      ],
      "execution_count": null,
      "outputs": []
    },
    {
      "cell_type": "code",
      "metadata": {
        "id": "Mjlof3omX1sH"
      },
      "source": [
        ""
      ],
      "execution_count": null,
      "outputs": []
    },
    {
      "cell_type": "markdown",
      "metadata": {
        "id": "9ENmPMuKVolZ"
      },
      "source": [
        "Now, let's normalize the data using standardization:"
      ]
    },
    {
      "cell_type": "code",
      "metadata": {
        "id": "JBwSbBjvX3A-"
      },
      "source": [
        ""
      ],
      "execution_count": null,
      "outputs": []
    },
    {
      "cell_type": "code",
      "metadata": {
        "id": "Q58yJC-RX3w5"
      },
      "source": [
        ""
      ],
      "execution_count": null,
      "outputs": []
    },
    {
      "cell_type": "markdown",
      "metadata": {
        "id": "-EuPGiCJ-lmB"
      },
      "source": [
        "Normalisation is required so that all the inputs are at a comparable range.\n",
        "Say there are two inputs to your ann, x1 and x2. x1 varies from to 0 to 0.5 and x2 varies from 0 to 1000. A change of x1 of 0.5  is 100 percent change where as a change of x2 by 0.5 is only a change of 0.05%. Hence normalization helps. "
      ]
    },
    {
      "cell_type": "markdown",
      "metadata": {
        "id": "P2z_A6xiRvVg"
      },
      "source": [
        "### 2. Training using only Fully Connected layers first"
      ]
    },
    {
      "cell_type": "code",
      "metadata": {
        "id": "yZqOQeE2X4aO"
      },
      "source": [
        ""
      ],
      "execution_count": null,
      "outputs": []
    },
    {
      "cell_type": "code",
      "metadata": {
        "id": "PMdHKS6DX4Xt"
      },
      "source": [
        ""
      ],
      "execution_count": null,
      "outputs": []
    },
    {
      "cell_type": "markdown",
      "metadata": {
        "id": "jgeCrlak5AMG"
      },
      "source": [
        "### 3. Extending to CNNs"
      ]
    },
    {
      "cell_type": "markdown",
      "metadata": {
        "id": "WKBhdpFaYw8s"
      },
      "source": [
        "\n",
        "Now, let's replicate the same architecture from the visualization provided on the previous video:\n",
        "![Screen Shot 2019-05-14 at 12 58 15](https://user-images.githubusercontent.com/5733246/57713463-e8627400-7648-11e9-8c64-3745519dbb20.png)\n",
        "\n",
        "The analog architecture that is going to be used is:\n",
        "- Conv. Layer with 6 filters\n",
        "- Maxpooling\n",
        "- Conv. Layer with 16 filters\n",
        "- Maxpooling\n",
        "- Fully connected layer with 120 units\n",
        "- Fully connected layer with 100 units\n",
        "- Output layer with 10 units\n"
      ]
    },
    {
      "cell_type": "markdown",
      "metadata": {
        "id": "HrF_r7NgYzJ6"
      },
      "source": [
        "#### 3.1 One Conv-Layer"
      ]
    },
    {
      "cell_type": "code",
      "metadata": {
        "id": "g9XMm782X5v8"
      },
      "source": [
        ""
      ],
      "execution_count": null,
      "outputs": []
    },
    {
      "cell_type": "code",
      "metadata": {
        "id": "8qpZe9PjYLoH"
      },
      "source": [
        ""
      ],
      "execution_count": null,
      "outputs": []
    },
    {
      "cell_type": "markdown",
      "metadata": {
        "id": "V6MwgVrbYJ5f"
      },
      "source": [
        "\n",
        "#### 3.2 One Conv-Layer + Maxpooling"
      ]
    },
    {
      "cell_type": "code",
      "metadata": {
        "id": "YpLbbRQEYLOk"
      },
      "source": [
        ""
      ],
      "execution_count": null,
      "outputs": []
    },
    {
      "cell_type": "code",
      "metadata": {
        "id": "E441Ga_iX5tj"
      },
      "source": [
        ""
      ],
      "execution_count": null,
      "outputs": []
    },
    {
      "cell_type": "markdown",
      "metadata": {
        "id": "bmu4vKhzXtPI"
      },
      "source": [
        "#### 3.3 Two Conv-Layer + Maxpooling\n",
        "\n",
        "And now, let's finish the architecture:"
      ]
    },
    {
      "cell_type": "code",
      "metadata": {
        "id": "aJtVtYoIb7EN"
      },
      "source": [
        ""
      ],
      "execution_count": null,
      "outputs": []
    },
    {
      "cell_type": "code",
      "metadata": {
        "id": "KTihZsb2YWTn"
      },
      "source": [
        ""
      ],
      "execution_count": null,
      "outputs": []
    },
    {
      "cell_type": "markdown",
      "metadata": {
        "id": "XXSBPdESYXDR"
      },
      "source": [
        "### 4. Visualizing predictions"
      ]
    },
    {
      "cell_type": "markdown",
      "metadata": {
        "id": "2xFczDTBY3SL"
      },
      "source": [
        "Finally, let's visualize some predictions:"
      ]
    },
    {
      "cell_type": "code",
      "metadata": {
        "id": "uScDuqJCYgU3"
      },
      "source": [
        ""
      ],
      "execution_count": null,
      "outputs": []
    },
    {
      "cell_type": "code",
      "metadata": {
        "collapsed": true,
        "id": "SA3VOUNqXtPJ"
      },
      "source": [
        ""
      ],
      "execution_count": null,
      "outputs": []
    }
  ]
}